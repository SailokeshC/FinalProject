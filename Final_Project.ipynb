{
 "cells": [
  {
   "cell_type": "markdown",
   "metadata": {},
   "source": [
    "Sailokesh .. DataScience Final Project"
   ]
  },
  {
   "cell_type": "code",
   "execution_count": 50,
   "metadata": {
    "collapsed": false
   },
   "outputs": [],
   "source": [
    "import pandas as pd # importing pandas library with the alias name pd\n",
    "import numpy as np # importing NumPy library with the alias name np\n",
    "import matplotlib.pyplot as plt # importing matplotlib.pyplot library with the alias name plt\n",
    "import seaborn as sns # importing seaborn library with the alias name sns\n",
    "import math # importing math library\n",
    "from sklearn.cross_validation import train_test_split\n",
    "from sklearn.linear_model import LinearRegression\n",
    "from sklearn.ensemble import RandomForestRegressor\n",
    "from sklearn import metrics\n",
    "%matplotlib inline "
   ]
  },
  {
   "cell_type": "code",
   "execution_count": 51,
   "metadata": {
    "collapsed": false
   },
   "outputs": [
    {
     "name": "stderr",
     "output_type": "stream",
     "text": [
      "C:\\Users\\sailo\\Anaconda3\\lib\\site-packages\\IPython\\core\\interactiveshell.py:2717: DtypeWarning: Columns (3,4,5,6,12) have mixed types. Specify dtype option on import or set low_memory=False.\n",
      "  interactivity=interactivity, compiler=compiler, result=result)\n"
     ]
    }
   ],
   "source": [
    "df = pd.read_csv(\"C:/Users/sailo/Desktop/salaries.csv\") # Loading salaries dataset from local storage into a pandas dataframe."
   ]
  },
  {
   "cell_type": "code",
   "execution_count": 52,
   "metadata": {
    "collapsed": false
   },
   "outputs": [
    {
     "data": {
      "text/html": [
       "<div>\n",
       "<table border=\"1\" class=\"dataframe\">\n",
       "  <thead>\n",
       "    <tr style=\"text-align: right;\">\n",
       "      <th></th>\n",
       "      <th>Id</th>\n",
       "      <th>EmployeeName</th>\n",
       "      <th>JobTitle</th>\n",
       "      <th>BasePay</th>\n",
       "      <th>OvertimePay</th>\n",
       "      <th>OtherPay</th>\n",
       "      <th>Benefits</th>\n",
       "      <th>TotalPay</th>\n",
       "      <th>TotalPayBenefits</th>\n",
       "      <th>Year</th>\n",
       "      <th>Notes</th>\n",
       "      <th>Agency</th>\n",
       "      <th>Status</th>\n",
       "    </tr>\n",
       "  </thead>\n",
       "  <tbody>\n",
       "    <tr>\n",
       "      <th>0</th>\n",
       "      <td>1</td>\n",
       "      <td>NATHANIEL FORD</td>\n",
       "      <td>GENERAL MANAGER-METROPOLITAN TRANSIT AUTHORITY</td>\n",
       "      <td>167411</td>\n",
       "      <td>0</td>\n",
       "      <td>400184</td>\n",
       "      <td>NaN</td>\n",
       "      <td>567595.43</td>\n",
       "      <td>567595.43</td>\n",
       "      <td>2011</td>\n",
       "      <td>NaN</td>\n",
       "      <td>San Francisco</td>\n",
       "      <td>NaN</td>\n",
       "    </tr>\n",
       "    <tr>\n",
       "      <th>1</th>\n",
       "      <td>2</td>\n",
       "      <td>GARY JIMENEZ</td>\n",
       "      <td>CAPTAIN III (POLICE DEPARTMENT)</td>\n",
       "      <td>155966</td>\n",
       "      <td>245132</td>\n",
       "      <td>137811</td>\n",
       "      <td>NaN</td>\n",
       "      <td>538909.28</td>\n",
       "      <td>538909.28</td>\n",
       "      <td>2011</td>\n",
       "      <td>NaN</td>\n",
       "      <td>San Francisco</td>\n",
       "      <td>NaN</td>\n",
       "    </tr>\n",
       "    <tr>\n",
       "      <th>2</th>\n",
       "      <td>3</td>\n",
       "      <td>ALBERT PARDINI</td>\n",
       "      <td>CAPTAIN III (POLICE DEPARTMENT)</td>\n",
       "      <td>212739</td>\n",
       "      <td>106088</td>\n",
       "      <td>16452.6</td>\n",
       "      <td>NaN</td>\n",
       "      <td>335279.91</td>\n",
       "      <td>335279.91</td>\n",
       "      <td>2011</td>\n",
       "      <td>NaN</td>\n",
       "      <td>San Francisco</td>\n",
       "      <td>NaN</td>\n",
       "    </tr>\n",
       "    <tr>\n",
       "      <th>3</th>\n",
       "      <td>4</td>\n",
       "      <td>CHRISTOPHER CHONG</td>\n",
       "      <td>WIRE ROPE CABLE MAINTENANCE MECHANIC</td>\n",
       "      <td>77916</td>\n",
       "      <td>56120.7</td>\n",
       "      <td>198307</td>\n",
       "      <td>NaN</td>\n",
       "      <td>332343.61</td>\n",
       "      <td>332343.61</td>\n",
       "      <td>2011</td>\n",
       "      <td>NaN</td>\n",
       "      <td>San Francisco</td>\n",
       "      <td>NaN</td>\n",
       "    </tr>\n",
       "    <tr>\n",
       "      <th>4</th>\n",
       "      <td>5</td>\n",
       "      <td>PATRICK GARDNER</td>\n",
       "      <td>DEPUTY CHIEF OF DEPARTMENT,(FIRE DEPARTMENT)</td>\n",
       "      <td>134402</td>\n",
       "      <td>9737</td>\n",
       "      <td>182235</td>\n",
       "      <td>NaN</td>\n",
       "      <td>326373.19</td>\n",
       "      <td>326373.19</td>\n",
       "      <td>2011</td>\n",
       "      <td>NaN</td>\n",
       "      <td>San Francisco</td>\n",
       "      <td>NaN</td>\n",
       "    </tr>\n",
       "    <tr>\n",
       "      <th>5</th>\n",
       "      <td>6</td>\n",
       "      <td>DAVID SULLIVAN</td>\n",
       "      <td>ASSISTANT DEPUTY CHIEF II</td>\n",
       "      <td>118602</td>\n",
       "      <td>8601</td>\n",
       "      <td>189083</td>\n",
       "      <td>NaN</td>\n",
       "      <td>316285.74</td>\n",
       "      <td>316285.74</td>\n",
       "      <td>2011</td>\n",
       "      <td>NaN</td>\n",
       "      <td>San Francisco</td>\n",
       "      <td>NaN</td>\n",
       "    </tr>\n",
       "    <tr>\n",
       "      <th>6</th>\n",
       "      <td>7</td>\n",
       "      <td>ALSON LEE</td>\n",
       "      <td>BATTALION CHIEF, (FIRE DEPARTMENT)</td>\n",
       "      <td>92492</td>\n",
       "      <td>89062.9</td>\n",
       "      <td>134426</td>\n",
       "      <td>NaN</td>\n",
       "      <td>315981.05</td>\n",
       "      <td>315981.05</td>\n",
       "      <td>2011</td>\n",
       "      <td>NaN</td>\n",
       "      <td>San Francisco</td>\n",
       "      <td>NaN</td>\n",
       "    </tr>\n",
       "    <tr>\n",
       "      <th>7</th>\n",
       "      <td>8</td>\n",
       "      <td>DAVID KUSHNER</td>\n",
       "      <td>DEPUTY DIRECTOR OF INVESTMENTS</td>\n",
       "      <td>256577</td>\n",
       "      <td>0</td>\n",
       "      <td>51322.5</td>\n",
       "      <td>NaN</td>\n",
       "      <td>307899.46</td>\n",
       "      <td>307899.46</td>\n",
       "      <td>2011</td>\n",
       "      <td>NaN</td>\n",
       "      <td>San Francisco</td>\n",
       "      <td>NaN</td>\n",
       "    </tr>\n",
       "    <tr>\n",
       "      <th>8</th>\n",
       "      <td>9</td>\n",
       "      <td>MICHAEL MORRIS</td>\n",
       "      <td>BATTALION CHIEF, (FIRE DEPARTMENT)</td>\n",
       "      <td>176933</td>\n",
       "      <td>86362.7</td>\n",
       "      <td>40132.2</td>\n",
       "      <td>NaN</td>\n",
       "      <td>303427.55</td>\n",
       "      <td>303427.55</td>\n",
       "      <td>2011</td>\n",
       "      <td>NaN</td>\n",
       "      <td>San Francisco</td>\n",
       "      <td>NaN</td>\n",
       "    </tr>\n",
       "    <tr>\n",
       "      <th>9</th>\n",
       "      <td>10</td>\n",
       "      <td>JOANNE HAYES-WHITE</td>\n",
       "      <td>CHIEF OF DEPARTMENT, (FIRE DEPARTMENT)</td>\n",
       "      <td>285262</td>\n",
       "      <td>0</td>\n",
       "      <td>17115.7</td>\n",
       "      <td>NaN</td>\n",
       "      <td>302377.73</td>\n",
       "      <td>302377.73</td>\n",
       "      <td>2011</td>\n",
       "      <td>NaN</td>\n",
       "      <td>San Francisco</td>\n",
       "      <td>NaN</td>\n",
       "    </tr>\n",
       "    <tr>\n",
       "      <th>10</th>\n",
       "      <td>11</td>\n",
       "      <td>ARTHUR KENNEY</td>\n",
       "      <td>ASSISTANT CHIEF OF DEPARTMENT, (FIRE DEPARTMENT)</td>\n",
       "      <td>194999</td>\n",
       "      <td>71344.9</td>\n",
       "      <td>33149.9</td>\n",
       "      <td>NaN</td>\n",
       "      <td>299494.17</td>\n",
       "      <td>299494.17</td>\n",
       "      <td>2011</td>\n",
       "      <td>NaN</td>\n",
       "      <td>San Francisco</td>\n",
       "      <td>NaN</td>\n",
       "    </tr>\n",
       "    <tr>\n",
       "      <th>11</th>\n",
       "      <td>12</td>\n",
       "      <td>PATRICIA JACKSON</td>\n",
       "      <td>CAPTAIN III (POLICE DEPARTMENT)</td>\n",
       "      <td>99722</td>\n",
       "      <td>87082.6</td>\n",
       "      <td>110804</td>\n",
       "      <td>NaN</td>\n",
       "      <td>297608.92</td>\n",
       "      <td>297608.92</td>\n",
       "      <td>2011</td>\n",
       "      <td>NaN</td>\n",
       "      <td>San Francisco</td>\n",
       "      <td>NaN</td>\n",
       "    </tr>\n",
       "    <tr>\n",
       "      <th>12</th>\n",
       "      <td>13</td>\n",
       "      <td>EDWARD HARRINGTON</td>\n",
       "      <td>EXECUTIVE CONTRACT EMPLOYEE</td>\n",
       "      <td>294580</td>\n",
       "      <td>0</td>\n",
       "      <td>0</td>\n",
       "      <td>NaN</td>\n",
       "      <td>294580.02</td>\n",
       "      <td>294580.02</td>\n",
       "      <td>2011</td>\n",
       "      <td>NaN</td>\n",
       "      <td>San Francisco</td>\n",
       "      <td>NaN</td>\n",
       "    </tr>\n",
       "    <tr>\n",
       "      <th>13</th>\n",
       "      <td>14</td>\n",
       "      <td>JOHN MARTIN</td>\n",
       "      <td>DEPARTMENT HEAD V</td>\n",
       "      <td>271329</td>\n",
       "      <td>0</td>\n",
       "      <td>21342.6</td>\n",
       "      <td>NaN</td>\n",
       "      <td>292671.62</td>\n",
       "      <td>292671.62</td>\n",
       "      <td>2011</td>\n",
       "      <td>NaN</td>\n",
       "      <td>San Francisco</td>\n",
       "      <td>NaN</td>\n",
       "    </tr>\n",
       "    <tr>\n",
       "      <th>14</th>\n",
       "      <td>15</td>\n",
       "      <td>DAVID FRANKLIN</td>\n",
       "      <td>BATTALION CHIEF, (FIRE DEPARTMENT)</td>\n",
       "      <td>174873</td>\n",
       "      <td>74050.3</td>\n",
       "      <td>37424.1</td>\n",
       "      <td>NaN</td>\n",
       "      <td>286347.05</td>\n",
       "      <td>286347.05</td>\n",
       "      <td>2011</td>\n",
       "      <td>NaN</td>\n",
       "      <td>San Francisco</td>\n",
       "      <td>NaN</td>\n",
       "    </tr>\n",
       "    <tr>\n",
       "      <th>15</th>\n",
       "      <td>16</td>\n",
       "      <td>RICHARD CORRIEA</td>\n",
       "      <td>COMMANDER III, (POLICE DEPARTMENT)</td>\n",
       "      <td>198778</td>\n",
       "      <td>73478.2</td>\n",
       "      <td>13957.6</td>\n",
       "      <td>NaN</td>\n",
       "      <td>286213.86</td>\n",
       "      <td>286213.86</td>\n",
       "      <td>2011</td>\n",
       "      <td>NaN</td>\n",
       "      <td>San Francisco</td>\n",
       "      <td>NaN</td>\n",
       "    </tr>\n",
       "    <tr>\n",
       "      <th>16</th>\n",
       "      <td>17</td>\n",
       "      <td>AMY HART</td>\n",
       "      <td>DEPARTMENT HEAD V</td>\n",
       "      <td>268605</td>\n",
       "      <td>0</td>\n",
       "      <td>16115.9</td>\n",
       "      <td>NaN</td>\n",
       "      <td>284720.43</td>\n",
       "      <td>284720.43</td>\n",
       "      <td>2011</td>\n",
       "      <td>NaN</td>\n",
       "      <td>San Francisco</td>\n",
       "      <td>NaN</td>\n",
       "    </tr>\n",
       "    <tr>\n",
       "      <th>17</th>\n",
       "      <td>18</td>\n",
       "      <td>SEBASTIAN WONG</td>\n",
       "      <td>CAPTAIN, EMERGENCYCY MEDICAL SERVICES</td>\n",
       "      <td>140547</td>\n",
       "      <td>119397</td>\n",
       "      <td>18625.1</td>\n",
       "      <td>NaN</td>\n",
       "      <td>278569.21</td>\n",
       "      <td>278569.21</td>\n",
       "      <td>2011</td>\n",
       "      <td>NaN</td>\n",
       "      <td>San Francisco</td>\n",
       "      <td>NaN</td>\n",
       "    </tr>\n",
       "    <tr>\n",
       "      <th>18</th>\n",
       "      <td>19</td>\n",
       "      <td>MARTY ROSS</td>\n",
       "      <td>BATTALION CHIEF, (FIRE DEPARTMENT)</td>\n",
       "      <td>168693</td>\n",
       "      <td>69626.1</td>\n",
       "      <td>38115.5</td>\n",
       "      <td>NaN</td>\n",
       "      <td>276434.22</td>\n",
       "      <td>276434.22</td>\n",
       "      <td>2011</td>\n",
       "      <td>NaN</td>\n",
       "      <td>San Francisco</td>\n",
       "      <td>NaN</td>\n",
       "    </tr>\n",
       "    <tr>\n",
       "      <th>19</th>\n",
       "      <td>20</td>\n",
       "      <td>ELLEN MOFFATT</td>\n",
       "      <td>ASSISTANT MEDICAL EXAMINER</td>\n",
       "      <td>257511</td>\n",
       "      <td>880.16</td>\n",
       "      <td>16159.5</td>\n",
       "      <td>NaN</td>\n",
       "      <td>274550.25</td>\n",
       "      <td>274550.25</td>\n",
       "      <td>2011</td>\n",
       "      <td>NaN</td>\n",
       "      <td>San Francisco</td>\n",
       "      <td>NaN</td>\n",
       "    </tr>\n",
       "    <tr>\n",
       "      <th>20</th>\n",
       "      <td>21</td>\n",
       "      <td>VENUS AZAR</td>\n",
       "      <td>ASSISTANT MEDICAL EXAMINER</td>\n",
       "      <td>257510</td>\n",
       "      <td>0</td>\n",
       "      <td>16679.8</td>\n",
       "      <td>NaN</td>\n",
       "      <td>274190.27</td>\n",
       "      <td>274190.27</td>\n",
       "      <td>2011</td>\n",
       "      <td>NaN</td>\n",
       "      <td>San Francisco</td>\n",
       "      <td>NaN</td>\n",
       "    </tr>\n",
       "    <tr>\n",
       "      <th>21</th>\n",
       "      <td>22</td>\n",
       "      <td>JUDY MELINEK</td>\n",
       "      <td>ASSISTANT MEDICAL EXAMINER</td>\n",
       "      <td>257510</td>\n",
       "      <td>377.21</td>\n",
       "      <td>15883.6</td>\n",
       "      <td>NaN</td>\n",
       "      <td>273771.21</td>\n",
       "      <td>273771.21</td>\n",
       "      <td>2011</td>\n",
       "      <td>NaN</td>\n",
       "      <td>San Francisco</td>\n",
       "      <td>NaN</td>\n",
       "    </tr>\n",
       "    <tr>\n",
       "      <th>22</th>\n",
       "      <td>23</td>\n",
       "      <td>GEORGE GARCIA</td>\n",
       "      <td>CAPTAIN, FIRE SUPPRESSION</td>\n",
       "      <td>140547</td>\n",
       "      <td>93200.6</td>\n",
       "      <td>39955.2</td>\n",
       "      <td>NaN</td>\n",
       "      <td>273702.71</td>\n",
       "      <td>273702.71</td>\n",
       "      <td>2011</td>\n",
       "      <td>NaN</td>\n",
       "      <td>San Francisco</td>\n",
       "      <td>NaN</td>\n",
       "    </tr>\n",
       "    <tr>\n",
       "      <th>23</th>\n",
       "      <td>24</td>\n",
       "      <td>VICTOR WYRSCH</td>\n",
       "      <td>BATTALION CHIEF, (FIRE DEPARTMENT)</td>\n",
       "      <td>168693</td>\n",
       "      <td>77896.1</td>\n",
       "      <td>24083.9</td>\n",
       "      <td>NaN</td>\n",
       "      <td>270672.63</td>\n",
       "      <td>270672.63</td>\n",
       "      <td>2011</td>\n",
       "      <td>NaN</td>\n",
       "      <td>San Francisco</td>\n",
       "      <td>NaN</td>\n",
       "    </tr>\n",
       "    <tr>\n",
       "      <th>24</th>\n",
       "      <td>25</td>\n",
       "      <td>JOSEPH DRISCOLL</td>\n",
       "      <td>CAPTAIN, FIRE SUPPRESSION</td>\n",
       "      <td>140547</td>\n",
       "      <td>97868.8</td>\n",
       "      <td>31909.3</td>\n",
       "      <td>NaN</td>\n",
       "      <td>270324.91</td>\n",
       "      <td>270324.91</td>\n",
       "      <td>2011</td>\n",
       "      <td>NaN</td>\n",
       "      <td>San Francisco</td>\n",
       "      <td>NaN</td>\n",
       "    </tr>\n",
       "    <tr>\n",
       "      <th>25</th>\n",
       "      <td>26</td>\n",
       "      <td>GREGORY SUHR</td>\n",
       "      <td>CHIEF OF POLICE</td>\n",
       "      <td>256470</td>\n",
       "      <td>0</td>\n",
       "      <td>11522.2</td>\n",
       "      <td>NaN</td>\n",
       "      <td>267992.59</td>\n",
       "      <td>267992.59</td>\n",
       "      <td>2011</td>\n",
       "      <td>NaN</td>\n",
       "      <td>San Francisco</td>\n",
       "      <td>NaN</td>\n",
       "    </tr>\n",
       "    <tr>\n",
       "      <th>26</th>\n",
       "      <td>27</td>\n",
       "      <td>JOHN HANLEY</td>\n",
       "      <td>CAPTAIN, FIRE SUPPRESSION</td>\n",
       "      <td>92080.8</td>\n",
       "      <td>40008</td>\n",
       "      <td>133696</td>\n",
       "      <td>NaN</td>\n",
       "      <td>265784.56</td>\n",
       "      <td>265784.56</td>\n",
       "      <td>2011</td>\n",
       "      <td>NaN</td>\n",
       "      <td>San Francisco</td>\n",
       "      <td>NaN</td>\n",
       "    </tr>\n",
       "    <tr>\n",
       "      <th>27</th>\n",
       "      <td>28</td>\n",
       "      <td>RAYMOND GUZMAN</td>\n",
       "      <td>BATTALION CHIEF, (FIRE DEPARTMENT)</td>\n",
       "      <td>168693</td>\n",
       "      <td>80706.9</td>\n",
       "      <td>16064</td>\n",
       "      <td>NaN</td>\n",
       "      <td>265463.46</td>\n",
       "      <td>265463.46</td>\n",
       "      <td>2011</td>\n",
       "      <td>NaN</td>\n",
       "      <td>San Francisco</td>\n",
       "      <td>NaN</td>\n",
       "    </tr>\n",
       "    <tr>\n",
       "      <th>28</th>\n",
       "      <td>29</td>\n",
       "      <td>DENISE SCHMITT</td>\n",
       "      <td>DEPUTY CHIEF III (POLICE DEPARTMENT)</td>\n",
       "      <td>261718</td>\n",
       "      <td>0</td>\n",
       "      <td>2357</td>\n",
       "      <td>NaN</td>\n",
       "      <td>264074.60</td>\n",
       "      <td>264074.60</td>\n",
       "      <td>2011</td>\n",
       "      <td>NaN</td>\n",
       "      <td>San Francisco</td>\n",
       "      <td>NaN</td>\n",
       "    </tr>\n",
       "    <tr>\n",
       "      <th>29</th>\n",
       "      <td>30</td>\n",
       "      <td>MONICA FIELDS</td>\n",
       "      <td>DEPUTY CHIEF OF DEPARTMENT,(FIRE DEPARTMENT)</td>\n",
       "      <td>246226</td>\n",
       "      <td>0</td>\n",
       "      <td>15140.5</td>\n",
       "      <td>NaN</td>\n",
       "      <td>261366.14</td>\n",
       "      <td>261366.14</td>\n",
       "      <td>2011</td>\n",
       "      <td>NaN</td>\n",
       "      <td>San Francisco</td>\n",
       "      <td>NaN</td>\n",
       "    </tr>\n",
       "    <tr>\n",
       "      <th>...</th>\n",
       "      <td>...</td>\n",
       "      <td>...</td>\n",
       "      <td>...</td>\n",
       "      <td>...</td>\n",
       "      <td>...</td>\n",
       "      <td>...</td>\n",
       "      <td>...</td>\n",
       "      <td>...</td>\n",
       "      <td>...</td>\n",
       "      <td>...</td>\n",
       "      <td>...</td>\n",
       "      <td>...</td>\n",
       "      <td>...</td>\n",
       "    </tr>\n",
       "    <tr>\n",
       "      <th>148624</th>\n",
       "      <td>148625</td>\n",
       "      <td>Lorraine Rosenthal</td>\n",
       "      <td>Senior Clerk</td>\n",
       "      <td>0.00</td>\n",
       "      <td>0.00</td>\n",
       "      <td>12.89</td>\n",
       "      <td>0.00</td>\n",
       "      <td>12.89</td>\n",
       "      <td>12.89</td>\n",
       "      <td>2014</td>\n",
       "      <td>NaN</td>\n",
       "      <td>San Francisco</td>\n",
       "      <td>PT</td>\n",
       "    </tr>\n",
       "    <tr>\n",
       "      <th>148625</th>\n",
       "      <td>148626</td>\n",
       "      <td>Renato C Gurion</td>\n",
       "      <td>Registered Nurse</td>\n",
       "      <td>0.00</td>\n",
       "      <td>0.00</td>\n",
       "      <td>6.00</td>\n",
       "      <td>1.24</td>\n",
       "      <td>6.00</td>\n",
       "      <td>7.24</td>\n",
       "      <td>2014</td>\n",
       "      <td>NaN</td>\n",
       "      <td>San Francisco</td>\n",
       "      <td>PT</td>\n",
       "    </tr>\n",
       "    <tr>\n",
       "      <th>148626</th>\n",
       "      <td>148627</td>\n",
       "      <td>Paulet Gaines</td>\n",
       "      <td>Account Clerk</td>\n",
       "      <td>0.00</td>\n",
       "      <td>0.00</td>\n",
       "      <td>0.00</td>\n",
       "      <td>0.00</td>\n",
       "      <td>0.00</td>\n",
       "      <td>0.00</td>\n",
       "      <td>2014</td>\n",
       "      <td>NaN</td>\n",
       "      <td>San Francisco</td>\n",
       "      <td>PT</td>\n",
       "    </tr>\n",
       "    <tr>\n",
       "      <th>148627</th>\n",
       "      <td>148628</td>\n",
       "      <td>Brett A Lundberg</td>\n",
       "      <td>General Laborer</td>\n",
       "      <td>0.00</td>\n",
       "      <td>0.00</td>\n",
       "      <td>0.00</td>\n",
       "      <td>0.00</td>\n",
       "      <td>0.00</td>\n",
       "      <td>0.00</td>\n",
       "      <td>2014</td>\n",
       "      <td>NaN</td>\n",
       "      <td>San Francisco</td>\n",
       "      <td>PT</td>\n",
       "    </tr>\n",
       "    <tr>\n",
       "      <th>148628</th>\n",
       "      <td>148629</td>\n",
       "      <td>Mark W Mcclure</td>\n",
       "      <td>General Laborer</td>\n",
       "      <td>0.00</td>\n",
       "      <td>0.00</td>\n",
       "      <td>0.00</td>\n",
       "      <td>0.00</td>\n",
       "      <td>0.00</td>\n",
       "      <td>0.00</td>\n",
       "      <td>2014</td>\n",
       "      <td>NaN</td>\n",
       "      <td>San Francisco</td>\n",
       "      <td>PT</td>\n",
       "    </tr>\n",
       "    <tr>\n",
       "      <th>148629</th>\n",
       "      <td>148630</td>\n",
       "      <td>Elizabeth Iniguez</td>\n",
       "      <td>Transcriber Typist</td>\n",
       "      <td>0.00</td>\n",
       "      <td>0.00</td>\n",
       "      <td>0.00</td>\n",
       "      <td>0.00</td>\n",
       "      <td>0.00</td>\n",
       "      <td>0.00</td>\n",
       "      <td>2014</td>\n",
       "      <td>NaN</td>\n",
       "      <td>San Francisco</td>\n",
       "      <td>PT</td>\n",
       "    </tr>\n",
       "    <tr>\n",
       "      <th>148630</th>\n",
       "      <td>148631</td>\n",
       "      <td>Randy J Keys</td>\n",
       "      <td>Carpenter</td>\n",
       "      <td>0.00</td>\n",
       "      <td>0.00</td>\n",
       "      <td>0.00</td>\n",
       "      <td>0.00</td>\n",
       "      <td>0.00</td>\n",
       "      <td>0.00</td>\n",
       "      <td>2014</td>\n",
       "      <td>NaN</td>\n",
       "      <td>San Francisco</td>\n",
       "      <td>PT</td>\n",
       "    </tr>\n",
       "    <tr>\n",
       "      <th>148631</th>\n",
       "      <td>148632</td>\n",
       "      <td>Andre M Johnson</td>\n",
       "      <td>Communications Dispatcher 1</td>\n",
       "      <td>0.00</td>\n",
       "      <td>0.00</td>\n",
       "      <td>0.00</td>\n",
       "      <td>0.00</td>\n",
       "      <td>0.00</td>\n",
       "      <td>0.00</td>\n",
       "      <td>2014</td>\n",
       "      <td>NaN</td>\n",
       "      <td>San Francisco</td>\n",
       "      <td>PT</td>\n",
       "    </tr>\n",
       "    <tr>\n",
       "      <th>148632</th>\n",
       "      <td>148633</td>\n",
       "      <td>Sharon D Owens-Webster</td>\n",
       "      <td>Protective Services Worker</td>\n",
       "      <td>0.00</td>\n",
       "      <td>0.00</td>\n",
       "      <td>0.00</td>\n",
       "      <td>0.00</td>\n",
       "      <td>0.00</td>\n",
       "      <td>0.00</td>\n",
       "      <td>2014</td>\n",
       "      <td>NaN</td>\n",
       "      <td>San Francisco</td>\n",
       "      <td>PT</td>\n",
       "    </tr>\n",
       "    <tr>\n",
       "      <th>148633</th>\n",
       "      <td>148634</td>\n",
       "      <td>Edward Ferdinand</td>\n",
       "      <td>General Laborer</td>\n",
       "      <td>0.00</td>\n",
       "      <td>0.00</td>\n",
       "      <td>0.00</td>\n",
       "      <td>0.00</td>\n",
       "      <td>0.00</td>\n",
       "      <td>0.00</td>\n",
       "      <td>2014</td>\n",
       "      <td>NaN</td>\n",
       "      <td>San Francisco</td>\n",
       "      <td>PT</td>\n",
       "    </tr>\n",
       "    <tr>\n",
       "      <th>148634</th>\n",
       "      <td>148635</td>\n",
       "      <td>David M Turner</td>\n",
       "      <td>Transit Car Cleaner</td>\n",
       "      <td>0.00</td>\n",
       "      <td>0.00</td>\n",
       "      <td>0.00</td>\n",
       "      <td>0.00</td>\n",
       "      <td>0.00</td>\n",
       "      <td>0.00</td>\n",
       "      <td>2014</td>\n",
       "      <td>NaN</td>\n",
       "      <td>San Francisco</td>\n",
       "      <td>PT</td>\n",
       "    </tr>\n",
       "    <tr>\n",
       "      <th>148635</th>\n",
       "      <td>148636</td>\n",
       "      <td>James S Kibblewhite</td>\n",
       "      <td>General Laborer</td>\n",
       "      <td>0.00</td>\n",
       "      <td>0.00</td>\n",
       "      <td>0.00</td>\n",
       "      <td>0.00</td>\n",
       "      <td>0.00</td>\n",
       "      <td>0.00</td>\n",
       "      <td>2014</td>\n",
       "      <td>NaN</td>\n",
       "      <td>San Francisco</td>\n",
       "      <td>PT</td>\n",
       "    </tr>\n",
       "    <tr>\n",
       "      <th>148636</th>\n",
       "      <td>148637</td>\n",
       "      <td>Andrew J Enzi</td>\n",
       "      <td>Arborist Technician</td>\n",
       "      <td>0.00</td>\n",
       "      <td>0.00</td>\n",
       "      <td>0.00</td>\n",
       "      <td>0.00</td>\n",
       "      <td>0.00</td>\n",
       "      <td>0.00</td>\n",
       "      <td>2014</td>\n",
       "      <td>NaN</td>\n",
       "      <td>San Francisco</td>\n",
       "      <td>PT</td>\n",
       "    </tr>\n",
       "    <tr>\n",
       "      <th>148637</th>\n",
       "      <td>148638</td>\n",
       "      <td>Kadeshra D Green</td>\n",
       "      <td>Transit Fare Inspector</td>\n",
       "      <td>0.00</td>\n",
       "      <td>0.00</td>\n",
       "      <td>0.00</td>\n",
       "      <td>0.00</td>\n",
       "      <td>0.00</td>\n",
       "      <td>0.00</td>\n",
       "      <td>2014</td>\n",
       "      <td>NaN</td>\n",
       "      <td>San Francisco</td>\n",
       "      <td>PT</td>\n",
       "    </tr>\n",
       "    <tr>\n",
       "      <th>148638</th>\n",
       "      <td>148639</td>\n",
       "      <td>Lennard B Hutchinson</td>\n",
       "      <td>Electrician</td>\n",
       "      <td>0.00</td>\n",
       "      <td>0.00</td>\n",
       "      <td>0.00</td>\n",
       "      <td>0.00</td>\n",
       "      <td>0.00</td>\n",
       "      <td>0.00</td>\n",
       "      <td>2014</td>\n",
       "      <td>NaN</td>\n",
       "      <td>San Francisco</td>\n",
       "      <td>PT</td>\n",
       "    </tr>\n",
       "    <tr>\n",
       "      <th>148639</th>\n",
       "      <td>148640</td>\n",
       "      <td>Richard A Talbert</td>\n",
       "      <td>Custodian</td>\n",
       "      <td>0.00</td>\n",
       "      <td>0.00</td>\n",
       "      <td>0.00</td>\n",
       "      <td>0.00</td>\n",
       "      <td>0.00</td>\n",
       "      <td>0.00</td>\n",
       "      <td>2014</td>\n",
       "      <td>NaN</td>\n",
       "      <td>San Francisco</td>\n",
       "      <td>PT</td>\n",
       "    </tr>\n",
       "    <tr>\n",
       "      <th>148640</th>\n",
       "      <td>148641</td>\n",
       "      <td>Charlene D Mccully</td>\n",
       "      <td>Parking Control Officer</td>\n",
       "      <td>0.00</td>\n",
       "      <td>0.00</td>\n",
       "      <td>0.00</td>\n",
       "      <td>0.00</td>\n",
       "      <td>0.00</td>\n",
       "      <td>0.00</td>\n",
       "      <td>2014</td>\n",
       "      <td>NaN</td>\n",
       "      <td>San Francisco</td>\n",
       "      <td>PT</td>\n",
       "    </tr>\n",
       "    <tr>\n",
       "      <th>148641</th>\n",
       "      <td>148642</td>\n",
       "      <td>Raphael Marquis Goins</td>\n",
       "      <td>Museum Guard</td>\n",
       "      <td>0.00</td>\n",
       "      <td>0.00</td>\n",
       "      <td>0.00</td>\n",
       "      <td>0.00</td>\n",
       "      <td>0.00</td>\n",
       "      <td>0.00</td>\n",
       "      <td>2014</td>\n",
       "      <td>NaN</td>\n",
       "      <td>San Francisco</td>\n",
       "      <td>PT</td>\n",
       "    </tr>\n",
       "    <tr>\n",
       "      <th>148642</th>\n",
       "      <td>148643</td>\n",
       "      <td>Dominic C Marquez</td>\n",
       "      <td>Sign Worker</td>\n",
       "      <td>0.00</td>\n",
       "      <td>0.00</td>\n",
       "      <td>0.00</td>\n",
       "      <td>0.00</td>\n",
       "      <td>0.00</td>\n",
       "      <td>0.00</td>\n",
       "      <td>2014</td>\n",
       "      <td>NaN</td>\n",
       "      <td>San Francisco</td>\n",
       "      <td>PT</td>\n",
       "    </tr>\n",
       "    <tr>\n",
       "      <th>148643</th>\n",
       "      <td>148644</td>\n",
       "      <td>Kim Brewer</td>\n",
       "      <td>Parking Control Officer</td>\n",
       "      <td>0.00</td>\n",
       "      <td>0.00</td>\n",
       "      <td>0.00</td>\n",
       "      <td>0.00</td>\n",
       "      <td>0.00</td>\n",
       "      <td>0.00</td>\n",
       "      <td>2014</td>\n",
       "      <td>NaN</td>\n",
       "      <td>San Francisco</td>\n",
       "      <td>PT</td>\n",
       "    </tr>\n",
       "    <tr>\n",
       "      <th>148644</th>\n",
       "      <td>148645</td>\n",
       "      <td>Randy D Winn</td>\n",
       "      <td>Stationary Eng, Sewage Plant</td>\n",
       "      <td>0.00</td>\n",
       "      <td>0.00</td>\n",
       "      <td>0.00</td>\n",
       "      <td>0.00</td>\n",
       "      <td>0.00</td>\n",
       "      <td>0.00</td>\n",
       "      <td>2014</td>\n",
       "      <td>NaN</td>\n",
       "      <td>San Francisco</td>\n",
       "      <td>PT</td>\n",
       "    </tr>\n",
       "    <tr>\n",
       "      <th>148645</th>\n",
       "      <td>148646</td>\n",
       "      <td>Carolyn A Wilson</td>\n",
       "      <td>Human Services Technician</td>\n",
       "      <td>0.00</td>\n",
       "      <td>0.00</td>\n",
       "      <td>0.00</td>\n",
       "      <td>0.00</td>\n",
       "      <td>0.00</td>\n",
       "      <td>0.00</td>\n",
       "      <td>2014</td>\n",
       "      <td>NaN</td>\n",
       "      <td>San Francisco</td>\n",
       "      <td>PT</td>\n",
       "    </tr>\n",
       "    <tr>\n",
       "      <th>148646</th>\n",
       "      <td>148647</td>\n",
       "      <td>Not provided</td>\n",
       "      <td>Not provided</td>\n",
       "      <td>Not Provided</td>\n",
       "      <td>Not Provided</td>\n",
       "      <td>Not Provided</td>\n",
       "      <td>Not Provided</td>\n",
       "      <td>0.00</td>\n",
       "      <td>0.00</td>\n",
       "      <td>2014</td>\n",
       "      <td>NaN</td>\n",
       "      <td>San Francisco</td>\n",
       "      <td>NaN</td>\n",
       "    </tr>\n",
       "    <tr>\n",
       "      <th>148647</th>\n",
       "      <td>148648</td>\n",
       "      <td>Joann Anderson</td>\n",
       "      <td>Communications Dispatcher 2</td>\n",
       "      <td>0.00</td>\n",
       "      <td>0.00</td>\n",
       "      <td>0.00</td>\n",
       "      <td>0.00</td>\n",
       "      <td>0.00</td>\n",
       "      <td>0.00</td>\n",
       "      <td>2014</td>\n",
       "      <td>NaN</td>\n",
       "      <td>San Francisco</td>\n",
       "      <td>PT</td>\n",
       "    </tr>\n",
       "    <tr>\n",
       "      <th>148648</th>\n",
       "      <td>148649</td>\n",
       "      <td>Leon Walker</td>\n",
       "      <td>Custodian</td>\n",
       "      <td>0.00</td>\n",
       "      <td>0.00</td>\n",
       "      <td>0.00</td>\n",
       "      <td>0.00</td>\n",
       "      <td>0.00</td>\n",
       "      <td>0.00</td>\n",
       "      <td>2014</td>\n",
       "      <td>NaN</td>\n",
       "      <td>San Francisco</td>\n",
       "      <td>PT</td>\n",
       "    </tr>\n",
       "    <tr>\n",
       "      <th>148649</th>\n",
       "      <td>148650</td>\n",
       "      <td>Roy I Tillery</td>\n",
       "      <td>Custodian</td>\n",
       "      <td>0.00</td>\n",
       "      <td>0.00</td>\n",
       "      <td>0.00</td>\n",
       "      <td>0.00</td>\n",
       "      <td>0.00</td>\n",
       "      <td>0.00</td>\n",
       "      <td>2014</td>\n",
       "      <td>NaN</td>\n",
       "      <td>San Francisco</td>\n",
       "      <td>PT</td>\n",
       "    </tr>\n",
       "    <tr>\n",
       "      <th>148650</th>\n",
       "      <td>148651</td>\n",
       "      <td>Not provided</td>\n",
       "      <td>Not provided</td>\n",
       "      <td>Not Provided</td>\n",
       "      <td>Not Provided</td>\n",
       "      <td>Not Provided</td>\n",
       "      <td>Not Provided</td>\n",
       "      <td>0.00</td>\n",
       "      <td>0.00</td>\n",
       "      <td>2014</td>\n",
       "      <td>NaN</td>\n",
       "      <td>San Francisco</td>\n",
       "      <td>NaN</td>\n",
       "    </tr>\n",
       "    <tr>\n",
       "      <th>148651</th>\n",
       "      <td>148652</td>\n",
       "      <td>Not provided</td>\n",
       "      <td>Not provided</td>\n",
       "      <td>Not Provided</td>\n",
       "      <td>Not Provided</td>\n",
       "      <td>Not Provided</td>\n",
       "      <td>Not Provided</td>\n",
       "      <td>0.00</td>\n",
       "      <td>0.00</td>\n",
       "      <td>2014</td>\n",
       "      <td>NaN</td>\n",
       "      <td>San Francisco</td>\n",
       "      <td>NaN</td>\n",
       "    </tr>\n",
       "    <tr>\n",
       "      <th>148652</th>\n",
       "      <td>148653</td>\n",
       "      <td>Not provided</td>\n",
       "      <td>Not provided</td>\n",
       "      <td>Not Provided</td>\n",
       "      <td>Not Provided</td>\n",
       "      <td>Not Provided</td>\n",
       "      <td>Not Provided</td>\n",
       "      <td>0.00</td>\n",
       "      <td>0.00</td>\n",
       "      <td>2014</td>\n",
       "      <td>NaN</td>\n",
       "      <td>San Francisco</td>\n",
       "      <td>NaN</td>\n",
       "    </tr>\n",
       "    <tr>\n",
       "      <th>148653</th>\n",
       "      <td>148654</td>\n",
       "      <td>Joe Lopez</td>\n",
       "      <td>Counselor, Log Cabin Ranch</td>\n",
       "      <td>0.00</td>\n",
       "      <td>0.00</td>\n",
       "      <td>-618.13</td>\n",
       "      <td>0.00</td>\n",
       "      <td>-618.13</td>\n",
       "      <td>-618.13</td>\n",
       "      <td>2014</td>\n",
       "      <td>NaN</td>\n",
       "      <td>San Francisco</td>\n",
       "      <td>PT</td>\n",
       "    </tr>\n",
       "  </tbody>\n",
       "</table>\n",
       "<p>148654 rows × 13 columns</p>\n",
       "</div>"
      ],
      "text/plain": [
       "            Id            EmployeeName  \\\n",
       "0            1          NATHANIEL FORD   \n",
       "1            2            GARY JIMENEZ   \n",
       "2            3          ALBERT PARDINI   \n",
       "3            4       CHRISTOPHER CHONG   \n",
       "4            5         PATRICK GARDNER   \n",
       "5            6          DAVID SULLIVAN   \n",
       "6            7               ALSON LEE   \n",
       "7            8           DAVID KUSHNER   \n",
       "8            9          MICHAEL MORRIS   \n",
       "9           10      JOANNE HAYES-WHITE   \n",
       "10          11           ARTHUR KENNEY   \n",
       "11          12        PATRICIA JACKSON   \n",
       "12          13       EDWARD HARRINGTON   \n",
       "13          14             JOHN MARTIN   \n",
       "14          15          DAVID FRANKLIN   \n",
       "15          16         RICHARD CORRIEA   \n",
       "16          17                AMY HART   \n",
       "17          18          SEBASTIAN WONG   \n",
       "18          19              MARTY ROSS   \n",
       "19          20           ELLEN MOFFATT   \n",
       "20          21              VENUS AZAR   \n",
       "21          22            JUDY MELINEK   \n",
       "22          23           GEORGE GARCIA   \n",
       "23          24           VICTOR WYRSCH   \n",
       "24          25         JOSEPH DRISCOLL   \n",
       "25          26            GREGORY SUHR   \n",
       "26          27             JOHN HANLEY   \n",
       "27          28          RAYMOND GUZMAN   \n",
       "28          29          DENISE SCHMITT   \n",
       "29          30           MONICA FIELDS   \n",
       "...        ...                     ...   \n",
       "148624  148625      Lorraine Rosenthal   \n",
       "148625  148626         Renato C Gurion   \n",
       "148626  148627           Paulet Gaines   \n",
       "148627  148628        Brett A Lundberg   \n",
       "148628  148629          Mark W Mcclure   \n",
       "148629  148630       Elizabeth Iniguez   \n",
       "148630  148631            Randy J Keys   \n",
       "148631  148632         Andre M Johnson   \n",
       "148632  148633  Sharon D Owens-Webster   \n",
       "148633  148634        Edward Ferdinand   \n",
       "148634  148635          David M Turner   \n",
       "148635  148636     James S Kibblewhite   \n",
       "148636  148637           Andrew J Enzi   \n",
       "148637  148638        Kadeshra D Green   \n",
       "148638  148639    Lennard B Hutchinson   \n",
       "148639  148640       Richard A Talbert   \n",
       "148640  148641      Charlene D Mccully   \n",
       "148641  148642   Raphael Marquis Goins   \n",
       "148642  148643       Dominic C Marquez   \n",
       "148643  148644              Kim Brewer   \n",
       "148644  148645            Randy D Winn   \n",
       "148645  148646        Carolyn A Wilson   \n",
       "148646  148647            Not provided   \n",
       "148647  148648          Joann Anderson   \n",
       "148648  148649             Leon Walker   \n",
       "148649  148650           Roy I Tillery   \n",
       "148650  148651            Not provided   \n",
       "148651  148652            Not provided   \n",
       "148652  148653            Not provided   \n",
       "148653  148654               Joe Lopez   \n",
       "\n",
       "                                                JobTitle       BasePay  \\\n",
       "0         GENERAL MANAGER-METROPOLITAN TRANSIT AUTHORITY        167411   \n",
       "1                        CAPTAIN III (POLICE DEPARTMENT)        155966   \n",
       "2                        CAPTAIN III (POLICE DEPARTMENT)        212739   \n",
       "3                   WIRE ROPE CABLE MAINTENANCE MECHANIC         77916   \n",
       "4           DEPUTY CHIEF OF DEPARTMENT,(FIRE DEPARTMENT)        134402   \n",
       "5                              ASSISTANT DEPUTY CHIEF II        118602   \n",
       "6                     BATTALION CHIEF, (FIRE DEPARTMENT)         92492   \n",
       "7                         DEPUTY DIRECTOR OF INVESTMENTS        256577   \n",
       "8                     BATTALION CHIEF, (FIRE DEPARTMENT)        176933   \n",
       "9                 CHIEF OF DEPARTMENT, (FIRE DEPARTMENT)        285262   \n",
       "10      ASSISTANT CHIEF OF DEPARTMENT, (FIRE DEPARTMENT)        194999   \n",
       "11                       CAPTAIN III (POLICE DEPARTMENT)         99722   \n",
       "12                           EXECUTIVE CONTRACT EMPLOYEE        294580   \n",
       "13                                     DEPARTMENT HEAD V        271329   \n",
       "14                    BATTALION CHIEF, (FIRE DEPARTMENT)        174873   \n",
       "15                    COMMANDER III, (POLICE DEPARTMENT)        198778   \n",
       "16                                     DEPARTMENT HEAD V        268605   \n",
       "17                 CAPTAIN, EMERGENCYCY MEDICAL SERVICES        140547   \n",
       "18                    BATTALION CHIEF, (FIRE DEPARTMENT)        168693   \n",
       "19                            ASSISTANT MEDICAL EXAMINER        257511   \n",
       "20                            ASSISTANT MEDICAL EXAMINER        257510   \n",
       "21                            ASSISTANT MEDICAL EXAMINER        257510   \n",
       "22                             CAPTAIN, FIRE SUPPRESSION        140547   \n",
       "23                    BATTALION CHIEF, (FIRE DEPARTMENT)        168693   \n",
       "24                             CAPTAIN, FIRE SUPPRESSION        140547   \n",
       "25                                       CHIEF OF POLICE        256470   \n",
       "26                             CAPTAIN, FIRE SUPPRESSION       92080.8   \n",
       "27                    BATTALION CHIEF, (FIRE DEPARTMENT)        168693   \n",
       "28                  DEPUTY CHIEF III (POLICE DEPARTMENT)        261718   \n",
       "29          DEPUTY CHIEF OF DEPARTMENT,(FIRE DEPARTMENT)        246226   \n",
       "...                                                  ...           ...   \n",
       "148624                                      Senior Clerk          0.00   \n",
       "148625                                  Registered Nurse          0.00   \n",
       "148626                                     Account Clerk          0.00   \n",
       "148627                                   General Laborer          0.00   \n",
       "148628                                   General Laborer          0.00   \n",
       "148629                                Transcriber Typist          0.00   \n",
       "148630                                         Carpenter          0.00   \n",
       "148631                       Communications Dispatcher 1          0.00   \n",
       "148632                        Protective Services Worker          0.00   \n",
       "148633                                   General Laborer          0.00   \n",
       "148634                               Transit Car Cleaner          0.00   \n",
       "148635                                   General Laborer          0.00   \n",
       "148636                               Arborist Technician          0.00   \n",
       "148637                            Transit Fare Inspector          0.00   \n",
       "148638                                       Electrician          0.00   \n",
       "148639                                         Custodian          0.00   \n",
       "148640                           Parking Control Officer          0.00   \n",
       "148641                                      Museum Guard          0.00   \n",
       "148642                                       Sign Worker          0.00   \n",
       "148643                           Parking Control Officer          0.00   \n",
       "148644                      Stationary Eng, Sewage Plant          0.00   \n",
       "148645                         Human Services Technician          0.00   \n",
       "148646                                      Not provided  Not Provided   \n",
       "148647                       Communications Dispatcher 2          0.00   \n",
       "148648                                         Custodian          0.00   \n",
       "148649                                         Custodian          0.00   \n",
       "148650                                      Not provided  Not Provided   \n",
       "148651                                      Not provided  Not Provided   \n",
       "148652                                      Not provided  Not Provided   \n",
       "148653                        Counselor, Log Cabin Ranch          0.00   \n",
       "\n",
       "         OvertimePay      OtherPay      Benefits   TotalPay  TotalPayBenefits  \\\n",
       "0                  0        400184           NaN  567595.43         567595.43   \n",
       "1             245132        137811           NaN  538909.28         538909.28   \n",
       "2             106088       16452.6           NaN  335279.91         335279.91   \n",
       "3            56120.7        198307           NaN  332343.61         332343.61   \n",
       "4               9737        182235           NaN  326373.19         326373.19   \n",
       "5               8601        189083           NaN  316285.74         316285.74   \n",
       "6            89062.9        134426           NaN  315981.05         315981.05   \n",
       "7                  0       51322.5           NaN  307899.46         307899.46   \n",
       "8            86362.7       40132.2           NaN  303427.55         303427.55   \n",
       "9                  0       17115.7           NaN  302377.73         302377.73   \n",
       "10           71344.9       33149.9           NaN  299494.17         299494.17   \n",
       "11           87082.6        110804           NaN  297608.92         297608.92   \n",
       "12                 0             0           NaN  294580.02         294580.02   \n",
       "13                 0       21342.6           NaN  292671.62         292671.62   \n",
       "14           74050.3       37424.1           NaN  286347.05         286347.05   \n",
       "15           73478.2       13957.6           NaN  286213.86         286213.86   \n",
       "16                 0       16115.9           NaN  284720.43         284720.43   \n",
       "17            119397       18625.1           NaN  278569.21         278569.21   \n",
       "18           69626.1       38115.5           NaN  276434.22         276434.22   \n",
       "19            880.16       16159.5           NaN  274550.25         274550.25   \n",
       "20                 0       16679.8           NaN  274190.27         274190.27   \n",
       "21            377.21       15883.6           NaN  273771.21         273771.21   \n",
       "22           93200.6       39955.2           NaN  273702.71         273702.71   \n",
       "23           77896.1       24083.9           NaN  270672.63         270672.63   \n",
       "24           97868.8       31909.3           NaN  270324.91         270324.91   \n",
       "25                 0       11522.2           NaN  267992.59         267992.59   \n",
       "26             40008        133696           NaN  265784.56         265784.56   \n",
       "27           80706.9         16064           NaN  265463.46         265463.46   \n",
       "28                 0          2357           NaN  264074.60         264074.60   \n",
       "29                 0       15140.5           NaN  261366.14         261366.14   \n",
       "...              ...           ...           ...        ...               ...   \n",
       "148624          0.00         12.89          0.00      12.89             12.89   \n",
       "148625          0.00          6.00          1.24       6.00              7.24   \n",
       "148626          0.00          0.00          0.00       0.00              0.00   \n",
       "148627          0.00          0.00          0.00       0.00              0.00   \n",
       "148628          0.00          0.00          0.00       0.00              0.00   \n",
       "148629          0.00          0.00          0.00       0.00              0.00   \n",
       "148630          0.00          0.00          0.00       0.00              0.00   \n",
       "148631          0.00          0.00          0.00       0.00              0.00   \n",
       "148632          0.00          0.00          0.00       0.00              0.00   \n",
       "148633          0.00          0.00          0.00       0.00              0.00   \n",
       "148634          0.00          0.00          0.00       0.00              0.00   \n",
       "148635          0.00          0.00          0.00       0.00              0.00   \n",
       "148636          0.00          0.00          0.00       0.00              0.00   \n",
       "148637          0.00          0.00          0.00       0.00              0.00   \n",
       "148638          0.00          0.00          0.00       0.00              0.00   \n",
       "148639          0.00          0.00          0.00       0.00              0.00   \n",
       "148640          0.00          0.00          0.00       0.00              0.00   \n",
       "148641          0.00          0.00          0.00       0.00              0.00   \n",
       "148642          0.00          0.00          0.00       0.00              0.00   \n",
       "148643          0.00          0.00          0.00       0.00              0.00   \n",
       "148644          0.00          0.00          0.00       0.00              0.00   \n",
       "148645          0.00          0.00          0.00       0.00              0.00   \n",
       "148646  Not Provided  Not Provided  Not Provided       0.00              0.00   \n",
       "148647          0.00          0.00          0.00       0.00              0.00   \n",
       "148648          0.00          0.00          0.00       0.00              0.00   \n",
       "148649          0.00          0.00          0.00       0.00              0.00   \n",
       "148650  Not Provided  Not Provided  Not Provided       0.00              0.00   \n",
       "148651  Not Provided  Not Provided  Not Provided       0.00              0.00   \n",
       "148652  Not Provided  Not Provided  Not Provided       0.00              0.00   \n",
       "148653          0.00       -618.13          0.00    -618.13           -618.13   \n",
       "\n",
       "        Year  Notes         Agency Status  \n",
       "0       2011    NaN  San Francisco    NaN  \n",
       "1       2011    NaN  San Francisco    NaN  \n",
       "2       2011    NaN  San Francisco    NaN  \n",
       "3       2011    NaN  San Francisco    NaN  \n",
       "4       2011    NaN  San Francisco    NaN  \n",
       "5       2011    NaN  San Francisco    NaN  \n",
       "6       2011    NaN  San Francisco    NaN  \n",
       "7       2011    NaN  San Francisco    NaN  \n",
       "8       2011    NaN  San Francisco    NaN  \n",
       "9       2011    NaN  San Francisco    NaN  \n",
       "10      2011    NaN  San Francisco    NaN  \n",
       "11      2011    NaN  San Francisco    NaN  \n",
       "12      2011    NaN  San Francisco    NaN  \n",
       "13      2011    NaN  San Francisco    NaN  \n",
       "14      2011    NaN  San Francisco    NaN  \n",
       "15      2011    NaN  San Francisco    NaN  \n",
       "16      2011    NaN  San Francisco    NaN  \n",
       "17      2011    NaN  San Francisco    NaN  \n",
       "18      2011    NaN  San Francisco    NaN  \n",
       "19      2011    NaN  San Francisco    NaN  \n",
       "20      2011    NaN  San Francisco    NaN  \n",
       "21      2011    NaN  San Francisco    NaN  \n",
       "22      2011    NaN  San Francisco    NaN  \n",
       "23      2011    NaN  San Francisco    NaN  \n",
       "24      2011    NaN  San Francisco    NaN  \n",
       "25      2011    NaN  San Francisco    NaN  \n",
       "26      2011    NaN  San Francisco    NaN  \n",
       "27      2011    NaN  San Francisco    NaN  \n",
       "28      2011    NaN  San Francisco    NaN  \n",
       "29      2011    NaN  San Francisco    NaN  \n",
       "...      ...    ...            ...    ...  \n",
       "148624  2014    NaN  San Francisco     PT  \n",
       "148625  2014    NaN  San Francisco     PT  \n",
       "148626  2014    NaN  San Francisco     PT  \n",
       "148627  2014    NaN  San Francisco     PT  \n",
       "148628  2014    NaN  San Francisco     PT  \n",
       "148629  2014    NaN  San Francisco     PT  \n",
       "148630  2014    NaN  San Francisco     PT  \n",
       "148631  2014    NaN  San Francisco     PT  \n",
       "148632  2014    NaN  San Francisco     PT  \n",
       "148633  2014    NaN  San Francisco     PT  \n",
       "148634  2014    NaN  San Francisco     PT  \n",
       "148635  2014    NaN  San Francisco     PT  \n",
       "148636  2014    NaN  San Francisco     PT  \n",
       "148637  2014    NaN  San Francisco     PT  \n",
       "148638  2014    NaN  San Francisco     PT  \n",
       "148639  2014    NaN  San Francisco     PT  \n",
       "148640  2014    NaN  San Francisco     PT  \n",
       "148641  2014    NaN  San Francisco     PT  \n",
       "148642  2014    NaN  San Francisco     PT  \n",
       "148643  2014    NaN  San Francisco     PT  \n",
       "148644  2014    NaN  San Francisco     PT  \n",
       "148645  2014    NaN  San Francisco     PT  \n",
       "148646  2014    NaN  San Francisco    NaN  \n",
       "148647  2014    NaN  San Francisco     PT  \n",
       "148648  2014    NaN  San Francisco     PT  \n",
       "148649  2014    NaN  San Francisco     PT  \n",
       "148650  2014    NaN  San Francisco    NaN  \n",
       "148651  2014    NaN  San Francisco    NaN  \n",
       "148652  2014    NaN  San Francisco    NaN  \n",
       "148653  2014    NaN  San Francisco     PT  \n",
       "\n",
       "[148654 rows x 13 columns]"
      ]
     },
     "execution_count": 52,
     "metadata": {},
     "output_type": "execute_result"
    }
   ],
   "source": [
    "df"
   ]
  },
  {
   "cell_type": "code",
   "execution_count": 53,
   "metadata": {
    "collapsed": false
   },
   "outputs": [
    {
     "data": {
      "text/html": [
       "<div>\n",
       "<table border=\"1\" class=\"dataframe\">\n",
       "  <thead>\n",
       "    <tr style=\"text-align: right;\">\n",
       "      <th></th>\n",
       "      <th>Id</th>\n",
       "      <th>EmployeeName</th>\n",
       "      <th>JobTitle</th>\n",
       "      <th>BasePay</th>\n",
       "      <th>OvertimePay</th>\n",
       "      <th>OtherPay</th>\n",
       "      <th>Benefits</th>\n",
       "      <th>TotalPay</th>\n",
       "      <th>TotalPayBenefits</th>\n",
       "      <th>Year</th>\n",
       "      <th>Notes</th>\n",
       "      <th>Agency</th>\n",
       "      <th>Status</th>\n",
       "    </tr>\n",
       "  </thead>\n",
       "  <tbody>\n",
       "    <tr>\n",
       "      <th>0</th>\n",
       "      <td>1</td>\n",
       "      <td>NATHANIEL FORD</td>\n",
       "      <td>GENERAL MANAGER-METROPOLITAN TRANSIT AUTHORITY</td>\n",
       "      <td>167411</td>\n",
       "      <td>0</td>\n",
       "      <td>400184</td>\n",
       "      <td>NaN</td>\n",
       "      <td>567595.43</td>\n",
       "      <td>567595.43</td>\n",
       "      <td>2011</td>\n",
       "      <td>NaN</td>\n",
       "      <td>San Francisco</td>\n",
       "      <td>NaN</td>\n",
       "    </tr>\n",
       "    <tr>\n",
       "      <th>1</th>\n",
       "      <td>2</td>\n",
       "      <td>GARY JIMENEZ</td>\n",
       "      <td>CAPTAIN III (POLICE DEPARTMENT)</td>\n",
       "      <td>155966</td>\n",
       "      <td>245132</td>\n",
       "      <td>137811</td>\n",
       "      <td>NaN</td>\n",
       "      <td>538909.28</td>\n",
       "      <td>538909.28</td>\n",
       "      <td>2011</td>\n",
       "      <td>NaN</td>\n",
       "      <td>San Francisco</td>\n",
       "      <td>NaN</td>\n",
       "    </tr>\n",
       "    <tr>\n",
       "      <th>2</th>\n",
       "      <td>3</td>\n",
       "      <td>ALBERT PARDINI</td>\n",
       "      <td>CAPTAIN III (POLICE DEPARTMENT)</td>\n",
       "      <td>212739</td>\n",
       "      <td>106088</td>\n",
       "      <td>16452.6</td>\n",
       "      <td>NaN</td>\n",
       "      <td>335279.91</td>\n",
       "      <td>335279.91</td>\n",
       "      <td>2011</td>\n",
       "      <td>NaN</td>\n",
       "      <td>San Francisco</td>\n",
       "      <td>NaN</td>\n",
       "    </tr>\n",
       "    <tr>\n",
       "      <th>3</th>\n",
       "      <td>4</td>\n",
       "      <td>CHRISTOPHER CHONG</td>\n",
       "      <td>WIRE ROPE CABLE MAINTENANCE MECHANIC</td>\n",
       "      <td>77916</td>\n",
       "      <td>56120.7</td>\n",
       "      <td>198307</td>\n",
       "      <td>NaN</td>\n",
       "      <td>332343.61</td>\n",
       "      <td>332343.61</td>\n",
       "      <td>2011</td>\n",
       "      <td>NaN</td>\n",
       "      <td>San Francisco</td>\n",
       "      <td>NaN</td>\n",
       "    </tr>\n",
       "    <tr>\n",
       "      <th>4</th>\n",
       "      <td>5</td>\n",
       "      <td>PATRICK GARDNER</td>\n",
       "      <td>DEPUTY CHIEF OF DEPARTMENT,(FIRE DEPARTMENT)</td>\n",
       "      <td>134402</td>\n",
       "      <td>9737</td>\n",
       "      <td>182235</td>\n",
       "      <td>NaN</td>\n",
       "      <td>326373.19</td>\n",
       "      <td>326373.19</td>\n",
       "      <td>2011</td>\n",
       "      <td>NaN</td>\n",
       "      <td>San Francisco</td>\n",
       "      <td>NaN</td>\n",
       "    </tr>\n",
       "  </tbody>\n",
       "</table>\n",
       "</div>"
      ],
      "text/plain": [
       "   Id       EmployeeName                                        JobTitle  \\\n",
       "0   1     NATHANIEL FORD  GENERAL MANAGER-METROPOLITAN TRANSIT AUTHORITY   \n",
       "1   2       GARY JIMENEZ                 CAPTAIN III (POLICE DEPARTMENT)   \n",
       "2   3     ALBERT PARDINI                 CAPTAIN III (POLICE DEPARTMENT)   \n",
       "3   4  CHRISTOPHER CHONG            WIRE ROPE CABLE MAINTENANCE MECHANIC   \n",
       "4   5    PATRICK GARDNER    DEPUTY CHIEF OF DEPARTMENT,(FIRE DEPARTMENT)   \n",
       "\n",
       "  BasePay OvertimePay OtherPay Benefits   TotalPay  TotalPayBenefits  Year  \\\n",
       "0  167411           0   400184      NaN  567595.43         567595.43  2011   \n",
       "1  155966      245132   137811      NaN  538909.28         538909.28  2011   \n",
       "2  212739      106088  16452.6      NaN  335279.91         335279.91  2011   \n",
       "3   77916     56120.7   198307      NaN  332343.61         332343.61  2011   \n",
       "4  134402        9737   182235      NaN  326373.19         326373.19  2011   \n",
       "\n",
       "   Notes         Agency Status  \n",
       "0    NaN  San Francisco    NaN  \n",
       "1    NaN  San Francisco    NaN  \n",
       "2    NaN  San Francisco    NaN  \n",
       "3    NaN  San Francisco    NaN  \n",
       "4    NaN  San Francisco    NaN  "
      ]
     },
     "execution_count": 53,
     "metadata": {},
     "output_type": "execute_result"
    }
   ],
   "source": [
    "df.head() # Tocheck the first five rows of a dataframe."
   ]
  },
  {
   "cell_type": "code",
   "execution_count": 54,
   "metadata": {
    "collapsed": false
   },
   "outputs": [
    {
     "data": {
      "text/plain": [
       "Id                    int64\n",
       "EmployeeName         object\n",
       "JobTitle             object\n",
       "BasePay              object\n",
       "OvertimePay          object\n",
       "OtherPay             object\n",
       "Benefits             object\n",
       "TotalPay            float64\n",
       "TotalPayBenefits    float64\n",
       "Year                  int64\n",
       "Notes               float64\n",
       "Agency               object\n",
       "Status               object\n",
       "dtype: object"
      ]
     },
     "execution_count": 54,
     "metadata": {},
     "output_type": "execute_result"
    }
   ],
   "source": [
    "df.dtypes # To check the datatypes of the dataframe."
   ]
  },
  {
   "cell_type": "markdown",
   "metadata": {},
   "source": [
    "We have multiple dataypes. Let's start cleaning the dataset."
   ]
  },
  {
   "cell_type": "code",
   "execution_count": 55,
   "metadata": {
    "collapsed": false
   },
   "outputs": [
    {
     "data": {
      "text/plain": [
       "Index(['Id', 'EmployeeName', 'JobTitle', 'BasePay', 'OvertimePay', 'OtherPay',\n",
       "       'Benefits', 'TotalPay', 'TotalPayBenefits', 'Year', 'Notes', 'Agency',\n",
       "       'Status'],\n",
       "      dtype='object')"
      ]
     },
     "execution_count": 55,
     "metadata": {},
     "output_type": "execute_result"
    }
   ],
   "source": [
    "df.columns # To check the columns in the dataframe."
   ]
  },
  {
   "cell_type": "code",
   "execution_count": 56,
   "metadata": {
    "collapsed": false
   },
   "outputs": [
    {
     "data": {
      "text/html": [
       "<div>\n",
       "<table border=\"1\" class=\"dataframe\">\n",
       "  <thead>\n",
       "    <tr style=\"text-align: right;\">\n",
       "      <th></th>\n",
       "      <th>Id</th>\n",
       "      <th>TotalPay</th>\n",
       "      <th>TotalPayBenefits</th>\n",
       "      <th>Year</th>\n",
       "      <th>Notes</th>\n",
       "    </tr>\n",
       "  </thead>\n",
       "  <tbody>\n",
       "    <tr>\n",
       "      <th>count</th>\n",
       "      <td>148654.000000</td>\n",
       "      <td>148654.000000</td>\n",
       "      <td>148654.000000</td>\n",
       "      <td>148654.000000</td>\n",
       "      <td>0.0</td>\n",
       "    </tr>\n",
       "    <tr>\n",
       "      <th>mean</th>\n",
       "      <td>74327.500000</td>\n",
       "      <td>74768.321972</td>\n",
       "      <td>93692.554811</td>\n",
       "      <td>2012.522643</td>\n",
       "      <td>NaN</td>\n",
       "    </tr>\n",
       "    <tr>\n",
       "      <th>std</th>\n",
       "      <td>42912.857795</td>\n",
       "      <td>50517.005274</td>\n",
       "      <td>62793.533483</td>\n",
       "      <td>1.117538</td>\n",
       "      <td>NaN</td>\n",
       "    </tr>\n",
       "    <tr>\n",
       "      <th>min</th>\n",
       "      <td>1.000000</td>\n",
       "      <td>-618.130000</td>\n",
       "      <td>-618.130000</td>\n",
       "      <td>2011.000000</td>\n",
       "      <td>NaN</td>\n",
       "    </tr>\n",
       "    <tr>\n",
       "      <th>25%</th>\n",
       "      <td>37164.250000</td>\n",
       "      <td>36168.995000</td>\n",
       "      <td>44065.650000</td>\n",
       "      <td>2012.000000</td>\n",
       "      <td>NaN</td>\n",
       "    </tr>\n",
       "    <tr>\n",
       "      <th>50%</th>\n",
       "      <td>74327.500000</td>\n",
       "      <td>71426.610000</td>\n",
       "      <td>92404.090000</td>\n",
       "      <td>2013.000000</td>\n",
       "      <td>NaN</td>\n",
       "    </tr>\n",
       "    <tr>\n",
       "      <th>75%</th>\n",
       "      <td>111490.750000</td>\n",
       "      <td>105839.135000</td>\n",
       "      <td>132876.450000</td>\n",
       "      <td>2014.000000</td>\n",
       "      <td>NaN</td>\n",
       "    </tr>\n",
       "    <tr>\n",
       "      <th>max</th>\n",
       "      <td>148654.000000</td>\n",
       "      <td>567595.430000</td>\n",
       "      <td>567595.430000</td>\n",
       "      <td>2014.000000</td>\n",
       "      <td>NaN</td>\n",
       "    </tr>\n",
       "  </tbody>\n",
       "</table>\n",
       "</div>"
      ],
      "text/plain": [
       "                  Id       TotalPay  TotalPayBenefits           Year  Notes\n",
       "count  148654.000000  148654.000000     148654.000000  148654.000000    0.0\n",
       "mean    74327.500000   74768.321972      93692.554811    2012.522643    NaN\n",
       "std     42912.857795   50517.005274      62793.533483       1.117538    NaN\n",
       "min         1.000000    -618.130000       -618.130000    2011.000000    NaN\n",
       "25%     37164.250000   36168.995000      44065.650000    2012.000000    NaN\n",
       "50%     74327.500000   71426.610000      92404.090000    2013.000000    NaN\n",
       "75%    111490.750000  105839.135000     132876.450000    2014.000000    NaN\n",
       "max    148654.000000  567595.430000     567595.430000    2014.000000    NaN"
      ]
     },
     "execution_count": 56,
     "metadata": {},
     "output_type": "execute_result"
    }
   ],
   "source": [
    "df.describe() # to check the summary statistics of the dataset."
   ]
  },
  {
   "cell_type": "code",
   "execution_count": 57,
   "metadata": {
    "collapsed": false
   },
   "outputs": [
    {
     "name": "stdout",
     "output_type": "stream",
     "text": [
      "<class 'pandas.core.frame.DataFrame'>\n",
      "RangeIndex: 148654 entries, 0 to 148653\n",
      "Data columns (total 13 columns):\n",
      "Id                  148654 non-null int64\n",
      "EmployeeName        148654 non-null object\n",
      "JobTitle            148654 non-null object\n",
      "BasePay             148049 non-null object\n",
      "OvertimePay         148654 non-null object\n",
      "OtherPay            148654 non-null object\n",
      "Benefits            112495 non-null object\n",
      "TotalPay            148654 non-null float64\n",
      "TotalPayBenefits    148654 non-null float64\n",
      "Year                148654 non-null int64\n",
      "Notes               0 non-null float64\n",
      "Agency              148654 non-null object\n",
      "Status              38119 non-null object\n",
      "dtypes: float64(3), int64(2), object(8)\n",
      "memory usage: 14.7+ MB\n"
     ]
    }
   ],
   "source": [
    "df.info() # To check the basic information of the dataframe."
   ]
  },
  {
   "cell_type": "code",
   "execution_count": 58,
   "metadata": {
    "collapsed": false
   },
   "outputs": [
    {
     "data": {
      "text/plain": [
       "(148654, 13)"
      ]
     },
     "execution_count": 58,
     "metadata": {},
     "output_type": "execute_result"
    }
   ],
   "source": [
    "df.shape # to check the shape of the dataframe."
   ]
  },
  {
   "cell_type": "markdown",
   "metadata": {},
   "source": [
    "We have 148654 instances and 13 columns."
   ]
  },
  {
   "cell_type": "markdown",
   "metadata": {},
   "source": [
    "# Data Cleaning"
   ]
  },
  {
   "cell_type": "code",
   "execution_count": 59,
   "metadata": {
    "collapsed": false
   },
   "outputs": [
    {
     "data": {
      "text/plain": [
       "Id                       0\n",
       "EmployeeName             0\n",
       "JobTitle                 0\n",
       "BasePay                605\n",
       "OvertimePay              0\n",
       "OtherPay                 0\n",
       "Benefits             36159\n",
       "TotalPay                 0\n",
       "TotalPayBenefits         0\n",
       "Year                     0\n",
       "Notes               148654\n",
       "Agency                   0\n",
       "Status              110535\n",
       "dtype: int64"
      ]
     },
     "execution_count": 59,
     "metadata": {},
     "output_type": "execute_result"
    }
   ],
   "source": [
    "df.isnull().sum() # To check the missing values in the dataframe."
   ]
  },
  {
   "cell_type": "markdown",
   "metadata": {},
   "source": [
    "# Handling Missing values"
   ]
  },
  {
   "cell_type": "markdown",
   "metadata": {},
   "source": [
    "We have many missing values in many columns. Let us deal with the missing values. WE can done in many ways. \n",
    "1) Replace the missing values with their mean for numerical values.\n",
    "2) Dropping observations\n",
    "3) Replace NaN with 0 in continous variables\n",
    "4) Creating new categories to replace in categorical variables"
   ]
  },
  {
   "cell_type": "code",
   "execution_count": 60,
   "metadata": {
    "collapsed": false
   },
   "outputs": [
    {
     "name": "stderr",
     "output_type": "stream",
     "text": [
      "C:\\Users\\sailo\\Anaconda3\\lib\\site-packages\\ipykernel\\__main__.py:1: FutureWarning: convert_objects is deprecated.  Use the data-type specific converters pd.to_datetime, pd.to_timedelta and pd.to_numeric.\n",
      "  if __name__ == '__main__':\n"
     ]
    }
   ],
   "source": [
    "df[\"BasePay\"] = df[\"BasePay\"].convert_objects(convert_numeric=True)"
   ]
  },
  {
   "cell_type": "code",
   "execution_count": 61,
   "metadata": {
    "collapsed": false
   },
   "outputs": [],
   "source": [
    "meanBasePay = df[\"BasePay\"].mean()"
   ]
  },
  {
   "cell_type": "code",
   "execution_count": 62,
   "metadata": {
    "collapsed": false
   },
   "outputs": [],
   "source": [
    "df[\"BasePay\"] = df[\"BasePay\"].fillna(meanBasePay)"
   ]
  },
  {
   "cell_type": "code",
   "execution_count": 63,
   "metadata": {
    "collapsed": false
   },
   "outputs": [
    {
     "name": "stderr",
     "output_type": "stream",
     "text": [
      "C:\\Users\\sailo\\Anaconda3\\lib\\site-packages\\ipykernel\\__main__.py:1: FutureWarning: convert_objects is deprecated.  Use the data-type specific converters pd.to_datetime, pd.to_timedelta and pd.to_numeric.\n",
      "  if __name__ == '__main__':\n"
     ]
    }
   ],
   "source": [
    "df[\"OvertimePay\"] = df[\"OvertimePay\"].convert_objects(convert_numeric=True)"
   ]
  },
  {
   "cell_type": "code",
   "execution_count": 64,
   "metadata": {
    "collapsed": true
   },
   "outputs": [],
   "source": [
    "meanOvertime = df[\"OvertimePay\"].mean()"
   ]
  },
  {
   "cell_type": "code",
   "execution_count": 65,
   "metadata": {
    "collapsed": false
   },
   "outputs": [],
   "source": [
    "df[\"OvertimePay\"] = df[\"OvertimePay\"].fillna(meanOvertime)"
   ]
  },
  {
   "cell_type": "code",
   "execution_count": 66,
   "metadata": {
    "collapsed": false
   },
   "outputs": [
    {
     "name": "stderr",
     "output_type": "stream",
     "text": [
      "C:\\Users\\sailo\\Anaconda3\\lib\\site-packages\\ipykernel\\__main__.py:1: FutureWarning: convert_objects is deprecated.  Use the data-type specific converters pd.to_datetime, pd.to_timedelta and pd.to_numeric.\n",
      "  if __name__ == '__main__':\n"
     ]
    }
   ],
   "source": [
    "df[\"Benefits\"] = df[\"Benefits\"].convert_objects(convert_numeric=True)"
   ]
  },
  {
   "cell_type": "code",
   "execution_count": 67,
   "metadata": {
    "collapsed": true
   },
   "outputs": [],
   "source": [
    "meanBenefits = df[\"Benefits\"].mean()"
   ]
  },
  {
   "cell_type": "code",
   "execution_count": 68,
   "metadata": {
    "collapsed": true
   },
   "outputs": [],
   "source": [
    "df[\"Benefits\"] = df[\"Benefits\"].fillna(meanBenefits)"
   ]
  },
  {
   "cell_type": "code",
   "execution_count": 69,
   "metadata": {
    "collapsed": false
   },
   "outputs": [
    {
     "name": "stderr",
     "output_type": "stream",
     "text": [
      "C:\\Users\\sailo\\Anaconda3\\lib\\site-packages\\ipykernel\\__main__.py:1: FutureWarning: convert_objects is deprecated.  Use the data-type specific converters pd.to_datetime, pd.to_timedelta and pd.to_numeric.\n",
      "  if __name__ == '__main__':\n"
     ]
    }
   ],
   "source": [
    "df[\"OtherPay\"] = df[\"OtherPay\"].convert_objects(convert_numeric=True)"
   ]
  },
  {
   "cell_type": "code",
   "execution_count": 70,
   "metadata": {
    "collapsed": false
   },
   "outputs": [],
   "source": [
    "meanOther = df[\"OtherPay\"].mean()"
   ]
  },
  {
   "cell_type": "code",
   "execution_count": 71,
   "metadata": {
    "collapsed": false
   },
   "outputs": [],
   "source": [
    "df[\"OtherPay\"] = df[\"OtherPay\"].fillna(meanOther)"
   ]
  },
  {
   "cell_type": "code",
   "execution_count": 72,
   "metadata": {
    "collapsed": false
   },
   "outputs": [
    {
     "data": {
      "text/plain": [
       "Id                       0\n",
       "EmployeeName             0\n",
       "JobTitle                 0\n",
       "BasePay                  0\n",
       "OvertimePay              0\n",
       "OtherPay                 0\n",
       "Benefits                 0\n",
       "TotalPay                 0\n",
       "TotalPayBenefits         0\n",
       "Year                     0\n",
       "Notes               148654\n",
       "Agency                   0\n",
       "Status              110535\n",
       "dtype: int64"
      ]
     },
     "execution_count": 72,
     "metadata": {},
     "output_type": "execute_result"
    }
   ],
   "source": [
    "df.isnull().sum()"
   ]
  },
  {
   "cell_type": "code",
   "execution_count": 73,
   "metadata": {
    "collapsed": false
   },
   "outputs": [
    {
     "data": {
      "text/plain": [
       "Index(['Id', 'EmployeeName', 'JobTitle', 'BasePay', 'OvertimePay', 'OtherPay',\n",
       "       'Benefits', 'TotalPay', 'TotalPayBenefits', 'Year', 'Notes', 'Agency',\n",
       "       'Status'],\n",
       "      dtype='object')"
      ]
     },
     "execution_count": 73,
     "metadata": {},
     "output_type": "execute_result"
    }
   ],
   "source": [
    "df.columns"
   ]
  },
  {
   "cell_type": "markdown",
   "metadata": {},
   "source": [
    "# Exploratory Data Analysis."
   ]
  },
  {
   "cell_type": "markdown",
   "metadata": {},
   "source": [
    "EDA for BasePay"
   ]
  },
  {
   "cell_type": "code",
   "execution_count": 74,
   "metadata": {
    "collapsed": false
   },
   "outputs": [
    {
     "data": {
      "text/html": [
       "<div>\n",
       "<table border=\"1\" class=\"dataframe\">\n",
       "  <thead>\n",
       "    <tr style=\"text-align: right;\">\n",
       "      <th></th>\n",
       "      <th>Id</th>\n",
       "      <th>EmployeeName</th>\n",
       "      <th>JobTitle</th>\n",
       "      <th>BasePay</th>\n",
       "      <th>OvertimePay</th>\n",
       "      <th>OtherPay</th>\n",
       "      <th>Benefits</th>\n",
       "      <th>TotalPay</th>\n",
       "      <th>TotalPayBenefits</th>\n",
       "      <th>Year</th>\n",
       "      <th>Notes</th>\n",
       "      <th>Agency</th>\n",
       "      <th>Status</th>\n",
       "    </tr>\n",
       "  </thead>\n",
       "  <tbody>\n",
       "  </tbody>\n",
       "</table>\n",
       "</div>"
      ],
      "text/plain": [
       "Empty DataFrame\n",
       "Columns: [Id, EmployeeName, JobTitle, BasePay, OvertimePay, OtherPay, Benefits, TotalPay, TotalPayBenefits, Year, Notes, Agency, Status]\n",
       "Index: []"
      ]
     },
     "execution_count": 74,
     "metadata": {},
     "output_type": "execute_result"
    }
   ],
   "source": [
    "df[df.BasePay.isnull()]"
   ]
  },
  {
   "cell_type": "markdown",
   "metadata": {},
   "source": [
    "no null values"
   ]
  },
  {
   "cell_type": "code",
   "execution_count": 75,
   "metadata": {
    "collapsed": false
   },
   "outputs": [
    {
     "data": {
      "text/plain": [
       "<matplotlib.axes._subplots.AxesSubplot at 0x1b8f8534470>"
      ]
     },
     "execution_count": 75,
     "metadata": {},
     "output_type": "execute_result"
    },
    {
     "data": {
      "image/png": "[encoded data removed]",
      "text/plain": [
       "<matplotlib.figure.Figure at 0x1b8f8534be0>"
      ]
     },
     "metadata": {},
     "output_type": "display_data"
    }
   ],
   "source": [
    "sns.set(rc={\"figure.figsize\": (10, 10)},style='dark')\n",
    "sns.distplot(df[\"BasePay\"],hist=True,kde=False,color='b',bins=30)"
   ]
  },
  {
   "cell_type": "code",
   "execution_count": 76,
   "metadata": {
    "collapsed": false
   },
   "outputs": [
    {
     "data": {
      "text/plain": [
       "count    148654.000000\n",
       "mean      66325.448841\n",
       "std       42676.946745\n",
       "min        -166.010000\n",
       "25%       33847.017500\n",
       "50%       65092.190000\n",
       "75%       94605.740000\n",
       "max      319275.010000\n",
       "Name: BasePay, dtype: float64"
      ]
     },
     "execution_count": 76,
     "metadata": {},
     "output_type": "execute_result"
    }
   ],
   "source": [
    "df.BasePay.describe()"
   ]
  },
  {
   "cell_type": "code",
   "execution_count": 77,
   "metadata": {
    "collapsed": false
   },
   "outputs": [
    {
     "data": {
      "text/plain": [
       "0.000000         1298\n",
       "66325.448841      609\n",
       "54703.000000      338\n",
       "55026.000000      297\n",
       "48472.400000      210\n",
       "65448.000000      153\n",
       "68391.000000      152\n",
       "121068.000000     152\n",
       "88374.000000      151\n",
       "51492.800000      143\n",
       "94191.000000      137\n",
       "116584.000000     127\n",
       "105934.660000     117\n",
       "105934.670000     114\n",
       "67948.000000      112\n",
       "51502.000000      110\n",
       "63995.000000      103\n",
       "60206.600000      101\n",
       "86840.000000       95\n",
       "105934.650000      94\n",
       "72144.000000       86\n",
       "116956.710000      85\n",
       "81830.000000       84\n",
       "18594.000000       82\n",
       "79222.000000       82\n",
       "88062.000000       82\n",
       "112703.740000      79\n",
       "65055.000000       78\n",
       "83160.000000       77\n",
       "61128.000000       77\n",
       "                 ... \n",
       "72536.060000        1\n",
       "63101.010000        1\n",
       "51010.320000        1\n",
       "84747.030000        1\n",
       "74332.520000        1\n",
       "1607.000000         1\n",
       "53546.010000        1\n",
       "20487.140000        1\n",
       "113401.430000       1\n",
       "47679.540000        1\n",
       "71830.700000        1\n",
       "85489.000000        1\n",
       "79780.530000        1\n",
       "65277.860000        1\n",
       "72043.800000        1\n",
       "104109.730000       1\n",
       "69257.890000        1\n",
       "102030.890000       1\n",
       "11495.050000        1\n",
       "48249.890000        1\n",
       "21373.250000        1\n",
       "66282.740000        1\n",
       "4502.800000         1\n",
       "20293.210000        1\n",
       "58495.860000        1\n",
       "175170.240000       1\n",
       "1327.400000         1\n",
       "9406.070000         1\n",
       "10146.980000        1\n",
       "22706.740000        1\n",
       "Name: BasePay, dtype: int64"
      ]
     },
     "execution_count": 77,
     "metadata": {},
     "output_type": "execute_result"
    }
   ],
   "source": [
    "df.BasePay.value_counts()"
   ]
  },
  {
   "cell_type": "markdown",
   "metadata": {},
   "source": [
    "EDA for OvertimePay"
   ]
  },
  {
   "cell_type": "code",
   "execution_count": 78,
   "metadata": {
    "collapsed": false
   },
   "outputs": [
    {
     "data": {
      "text/html": [
       "<div>\n",
       "<table border=\"1\" class=\"dataframe\">\n",
       "  <thead>\n",
       "    <tr style=\"text-align: right;\">\n",
       "      <th></th>\n",
       "      <th>Id</th>\n",
       "      <th>EmployeeName</th>\n",
       "      <th>JobTitle</th>\n",
       "      <th>BasePay</th>\n",
       "      <th>OvertimePay</th>\n",
       "      <th>OtherPay</th>\n",
       "      <th>Benefits</th>\n",
       "      <th>TotalPay</th>\n",
       "      <th>TotalPayBenefits</th>\n",
       "      <th>Year</th>\n",
       "      <th>Notes</th>\n",
       "      <th>Agency</th>\n",
       "      <th>Status</th>\n",
       "    </tr>\n",
       "  </thead>\n",
       "  <tbody>\n",
       "  </tbody>\n",
       "</table>\n",
       "</div>"
      ],
      "text/plain": [
       "Empty DataFrame\n",
       "Columns: [Id, EmployeeName, JobTitle, BasePay, OvertimePay, OtherPay, Benefits, TotalPay, TotalPayBenefits, Year, Notes, Agency, Status]\n",
       "Index: []"
      ]
     },
     "execution_count": 78,
     "metadata": {},
     "output_type": "execute_result"
    }
   ],
   "source": [
    "df[df.OvertimePay.isnull()]"
   ]
  },
  {
   "cell_type": "markdown",
   "metadata": {},
   "source": [
    "no null values"
   ]
  },
  {
   "cell_type": "code",
   "execution_count": 79,
   "metadata": {
    "collapsed": false
   },
   "outputs": [
    {
     "data": {
      "text/plain": [
       "<matplotlib.axes._subplots.AxesSubplot at 0x1b8f8972ba8>"
      ]
     },
     "execution_count": 79,
     "metadata": {},
     "output_type": "execute_result"
    },
    {
     "data": {
      "image/png": "[encoded data removed]",
      "text/plain": [
       "<matplotlib.figure.Figure at 0x1b8ef9314a8>"
      ]
     },
     "metadata": {},
     "output_type": "display_data"
    }
   ],
   "source": [
    "sns.set(rc={\"figure.figsize\": (10, 10)})\n",
    "sns.distplot(df[\"OvertimePay\"],hist=True,kde=False,color='r',bins=30)"
   ]
  },
  {
   "cell_type": "code",
   "execution_count": 80,
   "metadata": {
    "collapsed": false
   },
   "outputs": [
    {
     "data": {
      "text/plain": [
       "count    148654.000000\n",
       "mean       5066.059886\n",
       "std       11454.226449\n",
       "min          -0.010000\n",
       "25%           0.000000\n",
       "50%           0.000000\n",
       "75%        4658.667500\n",
       "max      245131.880000\n",
       "Name: OvertimePay, dtype: float64"
      ]
     },
     "execution_count": 80,
     "metadata": {},
     "output_type": "execute_result"
    }
   ],
   "source": [
    "df.OvertimePay.describe()"
   ]
  },
  {
   "cell_type": "code",
   "execution_count": 81,
   "metadata": {
    "collapsed": false
   },
   "outputs": [
    {
     "data": {
      "text/plain": [
       "0.00        77321\n",
       "10.68          41\n",
       "681.23         41\n",
       "152.13         38\n",
       "1314.78        27\n",
       "167.18         25\n",
       "278.96         25\n",
       "997.68         20\n",
       "76.32          19\n",
       "924.30         14\n",
       "752.85         14\n",
       "276.94         14\n",
       "288.34         14\n",
       "1099.08        14\n",
       "318.48         14\n",
       "223.17         14\n",
       "1258.02        13\n",
       "221.55         13\n",
       "1536.25        12\n",
       "1690.55        12\n",
       "251.70         12\n",
       "1540.50        12\n",
       "1016.01        12\n",
       "1743.71        12\n",
       "431.10         11\n",
       "1085.78        11\n",
       "2692.50        11\n",
       "3081.00        11\n",
       "1486.54        11\n",
       "283.86         11\n",
       "            ...  \n",
       "26020.84        1\n",
       "1383.54         1\n",
       "22737.94        1\n",
       "116.28          1\n",
       "35767.07        1\n",
       "10844.16        1\n",
       "5123.68         1\n",
       "802.30          1\n",
       "8173.90         1\n",
       "2686.16         1\n",
       "4898.77         1\n",
       "5849.88         1\n",
       "1969.53         1\n",
       "392.34          1\n",
       "206.25          1\n",
       "4676.40         1\n",
       "10784.59        1\n",
       "10378.56        1\n",
       "3076.65         1\n",
       "6276.69         1\n",
       "4515.16         1\n",
       "4535.75         1\n",
       "1018.45         1\n",
       "6124.40         1\n",
       "1629.76         1\n",
       "22136.39        1\n",
       "19597.08        1\n",
       "2924.19         1\n",
       "6464.46         1\n",
       "2703.14         1\n",
       "Name: OvertimePay, dtype: int64"
      ]
     },
     "execution_count": 81,
     "metadata": {},
     "output_type": "execute_result"
    }
   ],
   "source": [
    "df.OvertimePay.value_counts()"
   ]
  },
  {
   "cell_type": "markdown",
   "metadata": {},
   "source": [
    "EDA for Benifits"
   ]
  },
  {
   "cell_type": "code",
   "execution_count": 82,
   "metadata": {
    "collapsed": false
   },
   "outputs": [
    {
     "data": {
      "text/html": [
       "<div>\n",
       "<table border=\"1\" class=\"dataframe\">\n",
       "  <thead>\n",
       "    <tr style=\"text-align: right;\">\n",
       "      <th></th>\n",
       "      <th>Id</th>\n",
       "      <th>EmployeeName</th>\n",
       "      <th>JobTitle</th>\n",
       "      <th>BasePay</th>\n",
       "      <th>OvertimePay</th>\n",
       "      <th>OtherPay</th>\n",
       "      <th>Benefits</th>\n",
       "      <th>TotalPay</th>\n",
       "      <th>TotalPayBenefits</th>\n",
       "      <th>Year</th>\n",
       "      <th>Notes</th>\n",
       "      <th>Agency</th>\n",
       "      <th>Status</th>\n",
       "    </tr>\n",
       "  </thead>\n",
       "  <tbody>\n",
       "  </tbody>\n",
       "</table>\n",
       "</div>"
      ],
      "text/plain": [
       "Empty DataFrame\n",
       "Columns: [Id, EmployeeName, JobTitle, BasePay, OvertimePay, OtherPay, Benefits, TotalPay, TotalPayBenefits, Year, Notes, Agency, Status]\n",
       "Index: []"
      ]
     },
     "execution_count": 82,
     "metadata": {},
     "output_type": "execute_result"
    }
   ],
   "source": [
    "df[df.Benefits.isnull()]"
   ]
  },
  {
   "cell_type": "markdown",
   "metadata": {},
   "source": [
    "no null values"
   ]
  },
  {
   "cell_type": "code",
   "execution_count": 83,
   "metadata": {
    "collapsed": false,
    "scrolled": true
   },
   "outputs": [
    {
     "data": {
      "text/plain": [
       "<matplotlib.axes._subplots.AxesSubplot at 0x1b8f8be7198>"
      ]
     },
     "execution_count": 83,
     "metadata": {},
     "output_type": "execute_result"
    },
    {
     "data": {
      "image/png": "[encoded data removed]",
      "text/plain": [
       "<matplotlib.figure.Figure at 0x1b8f8bf16a0>"
      ]
     },
     "metadata": {},
     "output_type": "display_data"
    }
   ],
   "source": [
    "sns.set(rc={\"figure.figsize\": (10, 10)},style='dark')\n",
    "sns.distplot(df[\"Benefits\"],hist=True,kde=False,color='y',bins=30)"
   ]
  },
  {
   "cell_type": "code",
   "execution_count": 84,
   "metadata": {
    "collapsed": false
   },
   "outputs": [
    {
     "data": {
      "text/plain": [
       "count    148654.000000\n",
       "mean      25007.893151\n",
       "std       13398.411899\n",
       "min         -33.890000\n",
       "25%       22342.297500\n",
       "50%       25007.893151\n",
       "75%       33468.980000\n",
       "max       96570.660000\n",
       "Name: Benefits, dtype: float64"
      ]
     },
     "execution_count": 84,
     "metadata": {},
     "output_type": "execute_result"
    }
   ],
   "source": [
    "df.Benefits.describe()"
   ]
  },
  {
   "cell_type": "code",
   "execution_count": 85,
   "metadata": {
    "collapsed": false,
    "scrolled": true
   },
   "outputs": [
    {
     "data": {
      "text/plain": [
       "25007.893151    36163\n",
       "0.000000         1734\n",
       "7959.180000       348\n",
       "4659.360000       107\n",
       "25699.200000       83\n",
       "37055.220000       82\n",
       "27052.980000       75\n",
       "37025.180000       60\n",
       "36097.330000       57\n",
       "34150.930000       53\n",
       "38280.390000       51\n",
       "35884.330000       51\n",
       "39396.660000       49\n",
       "25954.760000       48\n",
       "36412.570000       47\n",
       "35445.100000       44\n",
       "7464.700000        43\n",
       "26642.480000       43\n",
       "37040.200000       43\n",
       "41406.590000       40\n",
       "41858.980000       40\n",
       "35732.230000       39\n",
       "41366.100000       38\n",
       "450.370000         37\n",
       "18323.880000       36\n",
       "7065.100000        36\n",
       "35134.880000       35\n",
       "24669.820000       35\n",
       "24682.650000       35\n",
       "35703.870000       35\n",
       "                ...  \n",
       "29946.500000        1\n",
       "31462.730000        1\n",
       "2147.380000         1\n",
       "26819.460000        1\n",
       "28435.630000        1\n",
       "44803.030000        1\n",
       "34606.730000        1\n",
       "40668.240000        1\n",
       "51372.930000        1\n",
       "10876.500000        1\n",
       "36112.200000        1\n",
       "25574.260000        1\n",
       "6062.850000         1\n",
       "53344.080000        1\n",
       "34898.820000        1\n",
       "25497.990000        1\n",
       "32443.150000        1\n",
       "22402.890000        1\n",
       "5233.920000         1\n",
       "53375.330000        1\n",
       "48278.200000        1\n",
       "34893.070000        1\n",
       "29197.530000        1\n",
       "2908.560000         1\n",
       "10167.810000        1\n",
       "3352.120000         1\n",
       "327.630000          1\n",
       "62774.040000        1\n",
       "24244.150000        1\n",
       "29821.620000        1\n",
       "Name: Benefits, dtype: int64"
      ]
     },
     "execution_count": 85,
     "metadata": {},
     "output_type": "execute_result"
    }
   ],
   "source": [
    "df.Benefits.value_counts()"
   ]
  },
  {
   "cell_type": "markdown",
   "metadata": {},
   "source": [
    "EDA for OtherPay"
   ]
  },
  {
   "cell_type": "code",
   "execution_count": 86,
   "metadata": {
    "collapsed": false
   },
   "outputs": [
    {
     "data": {
      "text/html": [
       "<div>\n",
       "<table border=\"1\" class=\"dataframe\">\n",
       "  <thead>\n",
       "    <tr style=\"text-align: right;\">\n",
       "      <th></th>\n",
       "      <th>Id</th>\n",
       "      <th>EmployeeName</th>\n",
       "      <th>JobTitle</th>\n",
       "      <th>BasePay</th>\n",
       "      <th>OvertimePay</th>\n",
       "      <th>OtherPay</th>\n",
       "      <th>Benefits</th>\n",
       "      <th>TotalPay</th>\n",
       "      <th>TotalPayBenefits</th>\n",
       "      <th>Year</th>\n",
       "      <th>Notes</th>\n",
       "      <th>Agency</th>\n",
       "      <th>Status</th>\n",
       "    </tr>\n",
       "  </thead>\n",
       "  <tbody>\n",
       "  </tbody>\n",
       "</table>\n",
       "</div>"
      ],
      "text/plain": [
       "Empty DataFrame\n",
       "Columns: [Id, EmployeeName, JobTitle, BasePay, OvertimePay, OtherPay, Benefits, TotalPay, TotalPayBenefits, Year, Notes, Agency, Status]\n",
       "Index: []"
      ]
     },
     "execution_count": 86,
     "metadata": {},
     "output_type": "execute_result"
    }
   ],
   "source": [
    "df[df.OtherPay.isnull()]"
   ]
  },
  {
   "cell_type": "markdown",
   "metadata": {},
   "source": [
    "no null values"
   ]
  },
  {
   "cell_type": "code",
   "execution_count": 87,
   "metadata": {
    "collapsed": false
   },
   "outputs": [
    {
     "data": {
      "text/plain": [
       "<matplotlib.axes._subplots.AxesSubplot at 0x1b8f9647278>"
      ]
     },
     "execution_count": 87,
     "metadata": {},
     "output_type": "execute_result"
    },
    {
     "data": {
      "image/png": "[encoded data removed]",
      "text/plain": [
       "<matplotlib.figure.Figure at 0x1b8f9659b38>"
      ]
     },
     "metadata": {},
     "output_type": "display_data"
    }
   ],
   "source": [
    "sns.set(rc={\"figure.figsize\": (10, 10)},style='dark')\n",
    "sns.distplot(df[\"OtherPay\"],hist=True,kde=False,color='g',bins=30)"
   ]
  },
  {
   "cell_type": "code",
   "execution_count": 88,
   "metadata": {
    "collapsed": false
   },
   "outputs": [
    {
     "data": {
      "text/plain": [
       "0.00        41600\n",
       "624.00       2092\n",
       "250.00        907\n",
       "648.00        739\n",
       "3486.00       516\n",
       "312.50        339\n",
       "200.00        308\n",
       "1250.00       256\n",
       "1000.00       226\n",
       "874.00        215\n",
       "550.00        215\n",
       "1040.00       211\n",
       "1500.00       196\n",
       "500.00        170\n",
       "1312.50       158\n",
       "100.00        147\n",
       "600.00        139\n",
       "480.00        125\n",
       "40.00         125\n",
       "120.00        120\n",
       "125.00        119\n",
       "960.00        114\n",
       "60.00         113\n",
       "1480.00       106\n",
       "1200.00        97\n",
       "1080.00        95\n",
       "1540.00        93\n",
       "1460.00        90\n",
       "10.00          85\n",
       "624.01         82\n",
       "            ...  \n",
       "3277.38         1\n",
       "10928.16        1\n",
       "10959.84        1\n",
       "16772.80        1\n",
       "783.85          1\n",
       "2474.26         1\n",
       "21725.50        1\n",
       "71.44           1\n",
       "12801.58        1\n",
       "4665.49         1\n",
       "4070.98         1\n",
       "1826.58         1\n",
       "2307.63         1\n",
       "2903.94         1\n",
       "759.43          1\n",
       "7772.14         1\n",
       "8706.83         1\n",
       "623.04          1\n",
       "2732.79         1\n",
       "2739.21         1\n",
       "7656.41         1\n",
       "18590.79        1\n",
       "4353.29         1\n",
       "8666.87         1\n",
       "6042.15         1\n",
       "542.10          1\n",
       "12918.80        1\n",
       "27.73           1\n",
       "884.46          1\n",
       "79532.55        1\n",
       "Name: OtherPay, dtype: int64"
      ]
     },
     "execution_count": 88,
     "metadata": {},
     "output_type": "execute_result"
    }
   ],
   "source": [
    "df.OtherPay.value_counts()"
   ]
  },
  {
   "cell_type": "markdown",
   "metadata": {},
   "source": [
    "We performed the EDA and now let us setup the dataframe in a shape so that we can apply a model."
   ]
  },
  {
   "cell_type": "code",
   "execution_count": 89,
   "metadata": {
    "collapsed": false
   },
   "outputs": [
    {
     "data": {
      "text/html": [
       "<div>\n",
       "<table border=\"1\" class=\"dataframe\">\n",
       "  <thead>\n",
       "    <tr style=\"text-align: right;\">\n",
       "      <th></th>\n",
       "      <th>Id</th>\n",
       "      <th>EmployeeName</th>\n",
       "      <th>JobTitle</th>\n",
       "      <th>BasePay</th>\n",
       "      <th>OvertimePay</th>\n",
       "      <th>OtherPay</th>\n",
       "      <th>Benefits</th>\n",
       "      <th>TotalPay</th>\n",
       "      <th>TotalPayBenefits</th>\n",
       "      <th>Year</th>\n",
       "      <th>Notes</th>\n",
       "      <th>Agency</th>\n",
       "      <th>Status</th>\n",
       "    </tr>\n",
       "  </thead>\n",
       "  <tbody>\n",
       "    <tr>\n",
       "      <th>0</th>\n",
       "      <td>1</td>\n",
       "      <td>NATHANIEL FORD</td>\n",
       "      <td>GENERAL MANAGER-METROPOLITAN TRANSIT AUTHORITY</td>\n",
       "      <td>167411.18</td>\n",
       "      <td>0.00</td>\n",
       "      <td>400184.25</td>\n",
       "      <td>25007.893151</td>\n",
       "      <td>567595.43</td>\n",
       "      <td>567595.43</td>\n",
       "      <td>2011</td>\n",
       "      <td>NaN</td>\n",
       "      <td>San Francisco</td>\n",
       "      <td>NaN</td>\n",
       "    </tr>\n",
       "    <tr>\n",
       "      <th>1</th>\n",
       "      <td>2</td>\n",
       "      <td>GARY JIMENEZ</td>\n",
       "      <td>CAPTAIN III (POLICE DEPARTMENT)</td>\n",
       "      <td>155966.02</td>\n",
       "      <td>245131.88</td>\n",
       "      <td>137811.38</td>\n",
       "      <td>25007.893151</td>\n",
       "      <td>538909.28</td>\n",
       "      <td>538909.28</td>\n",
       "      <td>2011</td>\n",
       "      <td>NaN</td>\n",
       "      <td>San Francisco</td>\n",
       "      <td>NaN</td>\n",
       "    </tr>\n",
       "    <tr>\n",
       "      <th>2</th>\n",
       "      <td>3</td>\n",
       "      <td>ALBERT PARDINI</td>\n",
       "      <td>CAPTAIN III (POLICE DEPARTMENT)</td>\n",
       "      <td>212739.13</td>\n",
       "      <td>106088.18</td>\n",
       "      <td>16452.60</td>\n",
       "      <td>25007.893151</td>\n",
       "      <td>335279.91</td>\n",
       "      <td>335279.91</td>\n",
       "      <td>2011</td>\n",
       "      <td>NaN</td>\n",
       "      <td>San Francisco</td>\n",
       "      <td>NaN</td>\n",
       "    </tr>\n",
       "    <tr>\n",
       "      <th>3</th>\n",
       "      <td>4</td>\n",
       "      <td>CHRISTOPHER CHONG</td>\n",
       "      <td>WIRE ROPE CABLE MAINTENANCE MECHANIC</td>\n",
       "      <td>77916.00</td>\n",
       "      <td>56120.71</td>\n",
       "      <td>198306.90</td>\n",
       "      <td>25007.893151</td>\n",
       "      <td>332343.61</td>\n",
       "      <td>332343.61</td>\n",
       "      <td>2011</td>\n",
       "      <td>NaN</td>\n",
       "      <td>San Francisco</td>\n",
       "      <td>NaN</td>\n",
       "    </tr>\n",
       "    <tr>\n",
       "      <th>4</th>\n",
       "      <td>5</td>\n",
       "      <td>PATRICK GARDNER</td>\n",
       "      <td>DEPUTY CHIEF OF DEPARTMENT,(FIRE DEPARTMENT)</td>\n",
       "      <td>134401.60</td>\n",
       "      <td>9737.00</td>\n",
       "      <td>182234.59</td>\n",
       "      <td>25007.893151</td>\n",
       "      <td>326373.19</td>\n",
       "      <td>326373.19</td>\n",
       "      <td>2011</td>\n",
       "      <td>NaN</td>\n",
       "      <td>San Francisco</td>\n",
       "      <td>NaN</td>\n",
       "    </tr>\n",
       "  </tbody>\n",
       "</table>\n",
       "</div>"
      ],
      "text/plain": [
       "   Id       EmployeeName                                        JobTitle  \\\n",
       "0   1     NATHANIEL FORD  GENERAL MANAGER-METROPOLITAN TRANSIT AUTHORITY   \n",
       "1   2       GARY JIMENEZ                 CAPTAIN III (POLICE DEPARTMENT)   \n",
       "2   3     ALBERT PARDINI                 CAPTAIN III (POLICE DEPARTMENT)   \n",
       "3   4  CHRISTOPHER CHONG            WIRE ROPE CABLE MAINTENANCE MECHANIC   \n",
       "4   5    PATRICK GARDNER    DEPUTY CHIEF OF DEPARTMENT,(FIRE DEPARTMENT)   \n",
       "\n",
       "     BasePay  OvertimePay   OtherPay      Benefits   TotalPay  \\\n",
       "0  167411.18         0.00  400184.25  25007.893151  567595.43   \n",
       "1  155966.02    245131.88  137811.38  25007.893151  538909.28   \n",
       "2  212739.13    106088.18   16452.60  25007.893151  335279.91   \n",
       "3   77916.00     56120.71  198306.90  25007.893151  332343.61   \n",
       "4  134401.60      9737.00  182234.59  25007.893151  326373.19   \n",
       "\n",
       "   TotalPayBenefits  Year  Notes         Agency Status  \n",
       "0         567595.43  2011    NaN  San Francisco    NaN  \n",
       "1         538909.28  2011    NaN  San Francisco    NaN  \n",
       "2         335279.91  2011    NaN  San Francisco    NaN  \n",
       "3         332343.61  2011    NaN  San Francisco    NaN  \n",
       "4         326373.19  2011    NaN  San Francisco    NaN  "
      ]
     },
     "execution_count": 89,
     "metadata": {},
     "output_type": "execute_result"
    }
   ],
   "source": [
    "df.head()"
   ]
  },
  {
   "cell_type": "code",
   "execution_count": 90,
   "metadata": {
    "collapsed": false
   },
   "outputs": [
    {
     "data": {
      "text/plain": [
       "Index(['Id', 'EmployeeName', 'JobTitle', 'BasePay', 'OvertimePay', 'OtherPay',\n",
       "       'Benefits', 'TotalPay', 'TotalPayBenefits', 'Year', 'Notes', 'Agency',\n",
       "       'Status'],\n",
       "      dtype='object')"
      ]
     },
     "execution_count": 90,
     "metadata": {},
     "output_type": "execute_result"
    }
   ],
   "source": [
    "df.columns"
   ]
  },
  {
   "cell_type": "markdown",
   "metadata": {},
   "source": [
    "The columns ID, EmployeeName, Notes,Agency, from the data frame"
   ]
  },
  {
   "cell_type": "code",
   "execution_count": 91,
   "metadata": {
    "collapsed": false
   },
   "outputs": [],
   "source": [
    "df= df.drop([\"Id\",\"EmployeeName\",\"Notes\",\"Agency\"],axis=1)"
   ]
  },
  {
   "cell_type": "code",
   "execution_count": 92,
   "metadata": {
    "collapsed": false
   },
   "outputs": [
    {
     "data": {
      "text/plain": [
       "JobTitle                 0\n",
       "BasePay                  0\n",
       "OvertimePay              0\n",
       "OtherPay                 0\n",
       "Benefits                 0\n",
       "TotalPay                 0\n",
       "TotalPayBenefits         0\n",
       "Year                     0\n",
       "Status              110535\n",
       "dtype: int64"
      ]
     },
     "execution_count": 92,
     "metadata": {},
     "output_type": "execute_result"
    }
   ],
   "source": [
    "df.isnull().sum()"
   ]
  },
  {
   "cell_type": "markdown",
   "metadata": {},
   "source": [
    "For a machine learning algorithm to perform well we need to input them the numerical Variable. So let us convert the two categorical variable JobTitle and Status to numerical varibles for that first let us write a function to replace missing values as well as to create dummy valus for the variables."
   ]
  },
  {
   "cell_type": "code",
   "execution_count": 93,
   "metadata": {
    "collapsed": false
   },
   "outputs": [],
   "source": [
    "category = [\"JobTitle\",\"Status\"]\n",
    "\n",
    "for variable in category:\n",
    "    df[variable].fillna(\"Missing\",inplace=True)\n",
    "    dummies=pd.get_dummies(df[variable],prefix=variable)\n",
    "    df =pd.concat([df,dummies],axis=1)\n",
    "    df.drop([variable],axis=1,inplace=True)"
   ]
  },
  {
   "cell_type": "code",
   "execution_count": 94,
   "metadata": {
    "collapsed": false,
    "scrolled": false
   },
   "outputs": [],
   "source": [
    "y = df.pop(\"TotalPay\")"
   ]
  },
  {
   "cell_type": "code",
   "execution_count": 95,
   "metadata": {
    "collapsed": true
   },
   "outputs": [],
   "source": [
    "X_train,X_test,y_train,y_test = train_test_split(df,y,test_size=0.3,random_state=101)"
   ]
  },
  {
   "cell_type": "code",
   "execution_count": 96,
   "metadata": {
    "collapsed": true
   },
   "outputs": [],
   "source": [
    "lmodel = LinearRegression()"
   ]
  },
  {
   "cell_type": "code",
   "execution_count": 97,
   "metadata": {
    "collapsed": false
   },
   "outputs": [
    {
     "data": {
      "text/plain": [
       "LinearRegression(copy_X=True, fit_intercept=True, n_jobs=1, normalize=False)"
      ]
     },
     "execution_count": 97,
     "metadata": {},
     "output_type": "execute_result"
    }
   ],
   "source": [
    "lmodel.fit(X_train,y_train)"
   ]
  },
  {
   "cell_type": "code",
   "execution_count": 98,
   "metadata": {
    "collapsed": false
   },
   "outputs": [
    {
     "name": "stdout",
     "output_type": "stream",
     "text": [
      "11835.1498316\n"
     ]
    }
   ],
   "source": [
    "print(lmodel.intercept_)"
   ]
  },
  {
   "cell_type": "code",
   "execution_count": 99,
   "metadata": {
    "collapsed": false
   },
   "outputs": [
    {
     "data": {
      "text/plain": [
       "array([ -5.93995288e-14,   1.98248085e-11,   4.13944434e-11, ...,\n",
       "        -2.96192233e+00,  -2.96192212e+00,  -2.96192260e+00])"
      ]
     },
     "execution_count": 99,
     "metadata": {},
     "output_type": "execute_result"
    }
   ],
   "source": [
    "lmodel.coef_"
   ]
  },
  {
   "cell_type": "code",
   "execution_count": 100,
   "metadata": {
    "collapsed": false
   },
   "outputs": [
    {
     "data": {
      "text/plain": [
       "Index(['BasePay', 'OvertimePay', 'OtherPay', 'Benefits', 'TotalPayBenefits',\n",
       "       'Year', 'JobTitle_ACCOUNT CLERK', 'JobTitle_ACCOUNTANT',\n",
       "       'JobTitle_ACCOUNTANT INTERN', 'JobTitle_ACPO,JuvP, Juv Prob (SFERS)',\n",
       "       ...\n",
       "       'JobTitle_Worker's Comp Supervisor 1',\n",
       "       'JobTitle_Worker's Compensation Adjuster',\n",
       "       'JobTitle_X-RAY LABORATORY AIDE', 'JobTitle_X-Ray Laboratory Aide',\n",
       "       'JobTitle_YOUTH COMMISSION ADVISOR, BOARD OF SUPERVISORS',\n",
       "       'JobTitle_Youth Comm Advisor', 'JobTitle_ZOO CURATOR', 'Status_FT',\n",
       "       'Status_Missing', 'Status_PT'],\n",
       "      dtype='object', length=2168)"
      ]
     },
     "execution_count": 100,
     "metadata": {},
     "output_type": "execute_result"
    }
   ],
   "source": [
    "X_train.columns"
   ]
  },
  {
   "cell_type": "code",
   "execution_count": 101,
   "metadata": {
    "collapsed": false
   },
   "outputs": [
    {
     "data": {
      "text/html": [
       "<div>\n",
       "<table border=\"1\" class=\"dataframe\">\n",
       "  <thead>\n",
       "    <tr style=\"text-align: right;\">\n",
       "      <th></th>\n",
       "      <th>coeff</th>\n",
       "    </tr>\n",
       "  </thead>\n",
       "  <tbody>\n",
       "    <tr>\n",
       "      <th>BasePay</th>\n",
       "      <td>-5.939953e-14</td>\n",
       "    </tr>\n",
       "    <tr>\n",
       "      <th>OvertimePay</th>\n",
       "      <td>1.982481e-11</td>\n",
       "    </tr>\n",
       "    <tr>\n",
       "      <th>OtherPay</th>\n",
       "      <td>4.139444e-11</td>\n",
       "    </tr>\n",
       "    <tr>\n",
       "      <th>Benefits</th>\n",
       "      <td>-1.000000e+00</td>\n",
       "    </tr>\n",
       "    <tr>\n",
       "      <th>TotalPayBenefits</th>\n",
       "      <td>1.000000e+00</td>\n",
       "    </tr>\n",
       "    <tr>\n",
       "      <th>Year</th>\n",
       "      <td>1.251410e-07</td>\n",
       "    </tr>\n",
       "    <tr>\n",
       "      <th>JobTitle_ACCOUNT CLERK</th>\n",
       "      <td>1.317570e+04</td>\n",
       "    </tr>\n",
       "    <tr>\n",
       "      <th>JobTitle_ACCOUNTANT</th>\n",
       "      <td>1.317570e+04</td>\n",
       "    </tr>\n",
       "    <tr>\n",
       "      <th>JobTitle_ACCOUNTANT INTERN</th>\n",
       "      <td>1.317570e+04</td>\n",
       "    </tr>\n",
       "    <tr>\n",
       "      <th>JobTitle_ACPO,JuvP, Juv Prob (SFERS)</th>\n",
       "      <td>-1.293445e+00</td>\n",
       "    </tr>\n",
       "    <tr>\n",
       "      <th>JobTitle_ACUPUNCTURIST</th>\n",
       "      <td>1.317570e+04</td>\n",
       "    </tr>\n",
       "    <tr>\n",
       "      <th>JobTitle_ADMINISTRATIVE ANALYST</th>\n",
       "      <td>1.317570e+04</td>\n",
       "    </tr>\n",
       "    <tr>\n",
       "      <th>JobTitle_ADMINISTRATIVE ANALYST II</th>\n",
       "      <td>1.317570e+04</td>\n",
       "    </tr>\n",
       "    <tr>\n",
       "      <th>JobTitle_ADMINISTRATIVE ANALYST III</th>\n",
       "      <td>1.317570e+04</td>\n",
       "    </tr>\n",
       "    <tr>\n",
       "      <th>JobTitle_ADMINISTRATIVE ENGINEER</th>\n",
       "      <td>1.317570e+04</td>\n",
       "    </tr>\n",
       "    <tr>\n",
       "      <th>JobTitle_ADMINISTRATIVE SERVICES MANAGER</th>\n",
       "      <td>1.317570e+04</td>\n",
       "    </tr>\n",
       "    <tr>\n",
       "      <th>JobTitle_ADMINISTRATOR, SFGH MEDICAL CENTER</th>\n",
       "      <td>1.317570e+04</td>\n",
       "    </tr>\n",
       "    <tr>\n",
       "      <th>JobTitle_AFFIRMATIVE ACTION SPECIALIST</th>\n",
       "      <td>1.317570e+04</td>\n",
       "    </tr>\n",
       "    <tr>\n",
       "      <th>JobTitle_AGRICULTURAL INSPECTOR</th>\n",
       "      <td>3.464475e+01</td>\n",
       "    </tr>\n",
       "    <tr>\n",
       "      <th>JobTitle_AIRPORT ASSISTANT DEPUTY DIRECTOR, BUSINESS ADMINI</th>\n",
       "      <td>1.317570e+04</td>\n",
       "    </tr>\n",
       "    <tr>\n",
       "      <th>JobTitle_AIRPORT ASSISTANT DEPUTY DIRECTOR, OPERATIONS</th>\n",
       "      <td>1.317570e+04</td>\n",
       "    </tr>\n",
       "    <tr>\n",
       "      <th>JobTitle_AIRPORT COMMUNICATIONS OPERATOR</th>\n",
       "      <td>1.317570e+04</td>\n",
       "    </tr>\n",
       "    <tr>\n",
       "      <th>JobTitle_AIRPORT COMMUNICATIONS SUPERVISOR</th>\n",
       "      <td>1.317570e+04</td>\n",
       "    </tr>\n",
       "    <tr>\n",
       "      <th>JobTitle_AIRPORT ECONOMIC PLANNER</th>\n",
       "      <td>1.317570e+04</td>\n",
       "    </tr>\n",
       "    <tr>\n",
       "      <th>JobTitle_AIRPORT ELECTRICIAN</th>\n",
       "      <td>1.317570e+04</td>\n",
       "    </tr>\n",
       "    <tr>\n",
       "      <th>JobTitle_AIRPORT ELECTRICIAN SUPERVISOR</th>\n",
       "      <td>1.317570e+04</td>\n",
       "    </tr>\n",
       "    <tr>\n",
       "      <th>JobTitle_AIRPORT EMERGENCY PLANNING COORDINATOR</th>\n",
       "      <td>1.317570e+04</td>\n",
       "    </tr>\n",
       "    <tr>\n",
       "      <th>JobTitle_AIRPORT MECHANICAL MAINTENANCE SUPERVISOR</th>\n",
       "      <td>1.317570e+04</td>\n",
       "    </tr>\n",
       "    <tr>\n",
       "      <th>JobTitle_AIRPORT NOISE ABATEMENT SPECIALIST</th>\n",
       "      <td>1.317570e+04</td>\n",
       "    </tr>\n",
       "    <tr>\n",
       "      <th>JobTitle_AIRPORT OPERATIONS SUPERVISOR</th>\n",
       "      <td>1.317570e+04</td>\n",
       "    </tr>\n",
       "    <tr>\n",
       "      <th>...</th>\n",
       "      <td>...</td>\n",
       "    </tr>\n",
       "    <tr>\n",
       "      <th>JobTitle_Water Const&amp;Main Supt</th>\n",
       "      <td>-1.183219e+04</td>\n",
       "    </tr>\n",
       "    <tr>\n",
       "      <th>JobTitle_Water Meter Repairer</th>\n",
       "      <td>-1.183219e+04</td>\n",
       "    </tr>\n",
       "    <tr>\n",
       "      <th>JobTitle_Water Meter Shop Supervisor 1</th>\n",
       "      <td>-1.183219e+04</td>\n",
       "    </tr>\n",
       "    <tr>\n",
       "      <th>JobTitle_Water Operations Analyst</th>\n",
       "      <td>-1.183219e+04</td>\n",
       "    </tr>\n",
       "    <tr>\n",
       "      <th>JobTitle_Water Quality Tech III</th>\n",
       "      <td>-1.183219e+04</td>\n",
       "    </tr>\n",
       "    <tr>\n",
       "      <th>JobTitle_Water Quality Technician</th>\n",
       "      <td>-1.183219e+04</td>\n",
       "    </tr>\n",
       "    <tr>\n",
       "      <th>JobTitle_Water QualityTech I/II</th>\n",
       "      <td>-1.183219e+04</td>\n",
       "    </tr>\n",
       "    <tr>\n",
       "      <th>JobTitle_Water Service Inspector</th>\n",
       "      <td>-1.183219e+04</td>\n",
       "    </tr>\n",
       "    <tr>\n",
       "      <th>JobTitle_Watershed Forester</th>\n",
       "      <td>-1.183219e+04</td>\n",
       "    </tr>\n",
       "    <tr>\n",
       "      <th>JobTitle_Watershed Keeper</th>\n",
       "      <td>-1.183219e+04</td>\n",
       "    </tr>\n",
       "    <tr>\n",
       "      <th>JobTitle_Watershed Keeper Supervisor</th>\n",
       "      <td>-1.183219e+04</td>\n",
       "    </tr>\n",
       "    <tr>\n",
       "      <th>JobTitle_Watershed Worker (Seasonal)</th>\n",
       "      <td>-1.183219e+04</td>\n",
       "    </tr>\n",
       "    <tr>\n",
       "      <th>JobTitle_Welder</th>\n",
       "      <td>-1.183219e+04</td>\n",
       "    </tr>\n",
       "    <tr>\n",
       "      <th>JobTitle_Welfare Fraud Investigator</th>\n",
       "      <td>-1.183219e+04</td>\n",
       "    </tr>\n",
       "    <tr>\n",
       "      <th>JobTitle_Wharfinger 1</th>\n",
       "      <td>-1.183219e+04</td>\n",
       "    </tr>\n",
       "    <tr>\n",
       "      <th>JobTitle_Wharfinger 2</th>\n",
       "      <td>-1.183219e+04</td>\n",
       "    </tr>\n",
       "    <tr>\n",
       "      <th>JobTitle_Window Cleaner</th>\n",
       "      <td>-1.183219e+04</td>\n",
       "    </tr>\n",
       "    <tr>\n",
       "      <th>JobTitle_Window Cleaner Supervisor</th>\n",
       "      <td>-1.183219e+04</td>\n",
       "    </tr>\n",
       "    <tr>\n",
       "      <th>JobTitle_Wire Rope Cable Maint Mechanic</th>\n",
       "      <td>-1.183219e+04</td>\n",
       "    </tr>\n",
       "    <tr>\n",
       "      <th>JobTitle_Wire Rope Cable Maint Sprv</th>\n",
       "      <td>-1.183219e+04</td>\n",
       "    </tr>\n",
       "    <tr>\n",
       "      <th>JobTitle_Worker's Comp Supervisor 1</th>\n",
       "      <td>-1.183219e+04</td>\n",
       "    </tr>\n",
       "    <tr>\n",
       "      <th>JobTitle_Worker's Compensation Adjuster</th>\n",
       "      <td>-1.183219e+04</td>\n",
       "    </tr>\n",
       "    <tr>\n",
       "      <th>JobTitle_X-RAY LABORATORY AIDE</th>\n",
       "      <td>1.317570e+04</td>\n",
       "    </tr>\n",
       "    <tr>\n",
       "      <th>JobTitle_X-Ray Laboratory Aide</th>\n",
       "      <td>-1.183219e+04</td>\n",
       "    </tr>\n",
       "    <tr>\n",
       "      <th>JobTitle_YOUTH COMMISSION ADVISOR, BOARD OF SUPERVISORS</th>\n",
       "      <td>1.317570e+04</td>\n",
       "    </tr>\n",
       "    <tr>\n",
       "      <th>JobTitle_Youth Comm Advisor</th>\n",
       "      <td>-1.183219e+04</td>\n",
       "    </tr>\n",
       "    <tr>\n",
       "      <th>JobTitle_ZOO CURATOR</th>\n",
       "      <td>-2.069828e-08</td>\n",
       "    </tr>\n",
       "    <tr>\n",
       "      <th>Status_FT</th>\n",
       "      <td>-2.961922e+00</td>\n",
       "    </tr>\n",
       "    <tr>\n",
       "      <th>Status_Missing</th>\n",
       "      <td>-2.961922e+00</td>\n",
       "    </tr>\n",
       "    <tr>\n",
       "      <th>Status_PT</th>\n",
       "      <td>-2.961923e+00</td>\n",
       "    </tr>\n",
       "  </tbody>\n",
       "</table>\n",
       "<p>2168 rows × 1 columns</p>\n",
       "</div>"
      ],
      "text/plain": [
       "                                                           coeff\n",
       "BasePay                                            -5.939953e-14\n",
       "OvertimePay                                         1.982481e-11\n",
       "OtherPay                                            4.139444e-11\n",
       "Benefits                                           -1.000000e+00\n",
       "TotalPayBenefits                                    1.000000e+00\n",
       "Year                                                1.251410e-07\n",
       "JobTitle_ACCOUNT CLERK                              1.317570e+04\n",
       "JobTitle_ACCOUNTANT                                 1.317570e+04\n",
       "JobTitle_ACCOUNTANT INTERN                          1.317570e+04\n",
       "JobTitle_ACPO,JuvP, Juv Prob (SFERS)               -1.293445e+00\n",
       "JobTitle_ACUPUNCTURIST                              1.317570e+04\n",
       "JobTitle_ADMINISTRATIVE ANALYST                     1.317570e+04\n",
       "JobTitle_ADMINISTRATIVE ANALYST II                  1.317570e+04\n",
       "JobTitle_ADMINISTRATIVE ANALYST III                 1.317570e+04\n",
       "JobTitle_ADMINISTRATIVE ENGINEER                    1.317570e+04\n",
       "JobTitle_ADMINISTRATIVE SERVICES MANAGER            1.317570e+04\n",
       "JobTitle_ADMINISTRATOR, SFGH MEDICAL CENTER         1.317570e+04\n",
       "JobTitle_AFFIRMATIVE ACTION SPECIALIST              1.317570e+04\n",
       "JobTitle_AGRICULTURAL INSPECTOR                     3.464475e+01\n",
       "JobTitle_AIRPORT ASSISTANT DEPUTY DIRECTOR, BUS...  1.317570e+04\n",
       "JobTitle_AIRPORT ASSISTANT DEPUTY DIRECTOR, OPE...  1.317570e+04\n",
       "JobTitle_AIRPORT COMMUNICATIONS OPERATOR            1.317570e+04\n",
       "JobTitle_AIRPORT COMMUNICATIONS SUPERVISOR          1.317570e+04\n",
       "JobTitle_AIRPORT ECONOMIC PLANNER                   1.317570e+04\n",
       "JobTitle_AIRPORT ELECTRICIAN                        1.317570e+04\n",
       "JobTitle_AIRPORT ELECTRICIAN SUPERVISOR             1.317570e+04\n",
       "JobTitle_AIRPORT EMERGENCY PLANNING COORDINATOR     1.317570e+04\n",
       "JobTitle_AIRPORT MECHANICAL MAINTENANCE SUPERVISOR  1.317570e+04\n",
       "JobTitle_AIRPORT NOISE ABATEMENT SPECIALIST         1.317570e+04\n",
       "JobTitle_AIRPORT OPERATIONS SUPERVISOR              1.317570e+04\n",
       "...                                                          ...\n",
       "JobTitle_Water Const&Main Supt                     -1.183219e+04\n",
       "JobTitle_Water Meter Repairer                      -1.183219e+04\n",
       "JobTitle_Water Meter Shop Supervisor 1             -1.183219e+04\n",
       "JobTitle_Water Operations Analyst                  -1.183219e+04\n",
       "JobTitle_Water Quality Tech III                    -1.183219e+04\n",
       "JobTitle_Water Quality Technician                  -1.183219e+04\n",
       "JobTitle_Water QualityTech I/II                    -1.183219e+04\n",
       "JobTitle_Water Service Inspector                   -1.183219e+04\n",
       "JobTitle_Watershed Forester                        -1.183219e+04\n",
       "JobTitle_Watershed Keeper                          -1.183219e+04\n",
       "JobTitle_Watershed Keeper Supervisor               -1.183219e+04\n",
       "JobTitle_Watershed Worker (Seasonal)               -1.183219e+04\n",
       "JobTitle_Welder                                    -1.183219e+04\n",
       "JobTitle_Welfare Fraud Investigator                -1.183219e+04\n",
       "JobTitle_Wharfinger 1                              -1.183219e+04\n",
       "JobTitle_Wharfinger 2                              -1.183219e+04\n",
       "JobTitle_Window Cleaner                            -1.183219e+04\n",
       "JobTitle_Window Cleaner Supervisor                 -1.183219e+04\n",
       "JobTitle_Wire Rope Cable Maint Mechanic            -1.183219e+04\n",
       "JobTitle_Wire Rope Cable Maint Sprv                -1.183219e+04\n",
       "JobTitle_Worker's Comp Supervisor 1                -1.183219e+04\n",
       "JobTitle_Worker's Compensation Adjuster            -1.183219e+04\n",
       "JobTitle_X-RAY LABORATORY AIDE                      1.317570e+04\n",
       "JobTitle_X-Ray Laboratory Aide                     -1.183219e+04\n",
       "JobTitle_YOUTH COMMISSION ADVISOR, BOARD OF SUP...  1.317570e+04\n",
       "JobTitle_Youth Comm Advisor                        -1.183219e+04\n",
       "JobTitle_ZOO CURATOR                               -2.069828e-08\n",
       "Status_FT                                          -2.961922e+00\n",
       "Status_Missing                                     -2.961922e+00\n",
       "Status_PT                                          -2.961923e+00\n",
       "\n",
       "[2168 rows x 1 columns]"
      ]
     },
     "execution_count": 101,
     "metadata": {},
     "output_type": "execute_result"
    }
   ],
   "source": [
    "pd.DataFrame(lmodel.coef_,df.columns,columns=['coeff'])"
   ]
  },
  {
   "cell_type": "markdown",
   "metadata": {},
   "source": [
    "Here I am going to perform Linear Regression at first and comparing the results with the Random forest regressor"
   ]
  },
  {
   "cell_type": "code",
   "execution_count": 105,
   "metadata": {
    "collapsed": true
   },
   "outputs": [],
   "source": [
    "prediction = lmodel.predict(X_test)"
   ]
  },
  {
   "cell_type": "code",
   "execution_count": 106,
   "metadata": {
    "collapsed": false
   },
   "outputs": [
    {
     "data": {
      "text/plain": [
       "array([ 112118.26000004,   79907.71000069,   29161.97000047, ...,\n",
       "         10474.10000151,    2234.6900001 ,  100979.74000065])"
      ]
     },
     "execution_count": 106,
     "metadata": {},
     "output_type": "execute_result"
    }
   ],
   "source": [
    "prediction"
   ]
  },
  {
   "cell_type": "code",
   "execution_count": 107,
   "metadata": {
    "collapsed": false
   },
   "outputs": [
    {
     "data": {
      "text/plain": [
       "82208     112118.26\n",
       "89725      79907.71\n",
       "102402     29161.97\n",
       "23995      52171.94\n",
       "8081      106792.60\n",
       "16132      73864.28\n",
       "49877      84331.00\n",
       "103653     22296.63\n",
       "126661     80526.97\n",
       "85285      95403.05\n",
       "100814     36653.83\n",
       "103861     14297.61\n",
       "68029      12960.00\n",
       "18522      67304.32\n",
       "7420      111003.93\n",
       "144023      8340.71\n",
       "95684      61947.51\n",
       "7950      107529.10\n",
       "36720     184827.85\n",
       "92074      73368.20\n",
       "36821     181209.00\n",
       "23469      53539.40\n",
       "11523      90845.53\n",
       "54912      66666.76\n",
       "134901     54157.85\n",
       "93803      77180.76\n",
       "6360      116685.41\n",
       "132541     61801.50\n",
       "137416     48368.65\n",
       "89137      76046.12\n",
       "            ...    \n",
       "33278       5092.94\n",
       "61754      49783.20\n",
       "94282      65445.98\n",
       "66541      15349.12\n",
       "84800      96749.04\n",
       "135379     53675.13\n",
       "55044      68358.02\n",
       "148096       716.74\n",
       "115099    134755.23\n",
       "4961      124448.07\n",
       "65614      19846.53\n",
       "145675      5209.20\n",
       "130411     66023.42\n",
       "64246      41961.57\n",
       "117164    115859.19\n",
       "54027      79292.55\n",
       "135329     52851.01\n",
       "134275     58621.01\n",
       "73571     209835.41\n",
       "12501      87063.30\n",
       "79547     128381.01\n",
       "2749      143592.06\n",
       "3156      139421.37\n",
       "45692     104505.44\n",
       "125436     83655.73\n",
       "98324      59523.52\n",
       "29412      19676.73\n",
       "104233     10474.10\n",
       "71256       2234.69\n",
       "121883    100979.74\n",
       "Name: TotalPay, dtype: float64"
      ]
     },
     "execution_count": 107,
     "metadata": {},
     "output_type": "execute_result"
    }
   ],
   "source": [
    "y_test"
   ]
  },
  {
   "cell_type": "code",
   "execution_count": 108,
   "metadata": {
    "collapsed": false
   },
   "outputs": [
    {
     "data": {
      "text/plain": [
       "<matplotlib.collections.PathCollection at 0x1b8807ef1d0>"
      ]
     },
     "execution_count": 108,
     "metadata": {},
     "output_type": "execute_result"
    },
    {
     "data": {
      "image/png": "[encoded data removed]",
      "text/plain": [
       "<matplotlib.figure.Figure at 0x1b8f968db00>"
      ]
     },
     "metadata": {},
     "output_type": "display_data"
    }
   ],
   "source": [
    "plt.scatter(y_test,prediction)"
   ]
  },
  {
   "cell_type": "code",
   "execution_count": 109,
   "metadata": {
    "collapsed": false
   },
   "outputs": [
    {
     "data": {
      "text/plain": [
       "26.151934229389024"
      ]
     },
     "execution_count": 109,
     "metadata": {},
     "output_type": "execute_result"
    }
   ],
   "source": [
    "metrics.mean_absolute_error(y_test,prediction)"
   ]
  },
  {
   "cell_type": "code",
   "execution_count": 110,
   "metadata": {
    "collapsed": false
   },
   "outputs": [
    {
     "data": {
      "text/plain": [
       "335909.63586562657"
      ]
     },
     "execution_count": 110,
     "metadata": {},
     "output_type": "execute_result"
    }
   ],
   "source": [
    "metrics.mean_squared_error(y_test,prediction)"
   ]
  },
  {
   "cell_type": "code",
   "execution_count": 111,
   "metadata": {
    "collapsed": false
   },
   "outputs": [
    {
     "data": {
      "text/plain": [
       "579.57711813496098"
      ]
     },
     "execution_count": 111,
     "metadata": {},
     "output_type": "execute_result"
    }
   ],
   "source": [
    "np.sqrt(metrics.mean_squared_error(y_test,prediction))"
   ]
  },
  {
   "cell_type": "markdown",
   "metadata": {},
   "source": [
    "#    Random Forest Regressor Model.\n",
    "         "
   ]
  },
  {
   "cell_type": "code",
   "execution_count": 112,
   "metadata": {
    "collapsed": false
   },
   "outputs": [
    {
     "data": {
      "text/plain": [
       "RandomForestRegressor(bootstrap=True, criterion='mse', max_depth=None,\n",
       "           max_features='auto', max_leaf_nodes=None,\n",
       "           min_impurity_split=1e-07, min_samples_leaf=1,\n",
       "           min_samples_split=2, min_weight_fraction_leaf=0.0,\n",
       "           n_estimators=100, n_jobs=-1, oob_score=True, random_state=50,\n",
       "           verbose=0, warm_start=False)"
      ]
     },
     "execution_count": 112,
     "metadata": {},
     "output_type": "execute_result"
    }
   ],
   "source": [
    "model = RandomForestRegressor(n_estimators=100,oob_score=True,n_jobs=-1,random_state=50,max_features=\"auto\",min_samples_split=2)\n",
    "model.fit(df,y)"
   ]
  },
  {
   "cell_type": "code",
   "execution_count": 113,
   "metadata": {
    "collapsed": true
   },
   "outputs": [],
   "source": [
    "prediction1 = model.predict(X_test)"
   ]
  },
  {
   "cell_type": "code",
   "execution_count": 114,
   "metadata": {
    "collapsed": false
   },
   "outputs": [
    {
     "data": {
      "text/plain": [
       "array([ 112202.5397,   79778.9414,   29221.6172, ...,   10571.486 ,\n",
       "          2282.8377,  100967.4146])"
      ]
     },
     "execution_count": 114,
     "metadata": {},
     "output_type": "execute_result"
    }
   ],
   "source": [
    "prediction1"
   ]
  },
  {
   "cell_type": "code",
   "execution_count": 115,
   "metadata": {
    "collapsed": false
   },
   "outputs": [
    {
     "data": {
      "text/plain": [
       "<matplotlib.collections.PathCollection at 0x1b880876b38>"
      ]
     },
     "execution_count": 115,
     "metadata": {},
     "output_type": "execute_result"
    },
    {
     "data": {
      "image/png": "[encoded data removed]",
      "text/plain": [
       "<matplotlib.figure.Figure at 0x1b880804710>"
      ]
     },
     "metadata": {},
     "output_type": "display_data"
    }
   ],
   "source": [
    "plt.scatter(y_test,prediction1)"
   ]
  },
  {
   "cell_type": "code",
   "execution_count": 116,
   "metadata": {
    "collapsed": false
   },
   "outputs": [
    {
     "data": {
      "text/plain": [
       "48.198108563337726"
      ]
     },
     "execution_count": 116,
     "metadata": {},
     "output_type": "execute_result"
    }
   ],
   "source": [
    "metrics.mean_absolute_error(y_test,prediction1)"
   ]
  },
  {
   "cell_type": "code",
   "execution_count": 117,
   "metadata": {
    "collapsed": false
   },
   "outputs": [
    {
     "data": {
      "text/plain": [
       "74352.156113026533"
      ]
     },
     "execution_count": 117,
     "metadata": {},
     "output_type": "execute_result"
    }
   ],
   "source": [
    "metrics.mean_squared_error(y_test,prediction1)"
   ]
  },
  {
   "cell_type": "code",
   "execution_count": 118,
   "metadata": {
    "collapsed": false
   },
   "outputs": [
    {
     "data": {
      "text/plain": [
       "272.67591773573724"
      ]
     },
     "execution_count": 118,
     "metadata": {},
     "output_type": "execute_result"
    }
   ],
   "source": [
    "np.sqrt(metrics.mean_squared_error(y_test,prediction1))"
   ]
  },
  {
   "cell_type": "code",
   "execution_count": 119,
   "metadata": {
    "collapsed": false
   },
   "outputs": [
    {
     "data": {
      "text/plain": [
       "0.99984803408802947"
      ]
     },
     "execution_count": 119,
     "metadata": {},
     "output_type": "execute_result"
    }
   ],
   "source": [
    "model.oob_score_"
   ]
  },
  {
   "cell_type": "markdown",
   "metadata": {
    "collapsed": true
   },
   "source": [
    "From the conclusion, we came to know that Random forest regressor gives good results than Linear regressor because of it's predictive capability."
   ]
  }
 ],
 "metadata": {
  "kernelspec": {
   "display_name": "Python 3",
   "language": "python",
   "name": "python3"
  },
  "language_info": {
   "codemirror_mode": {
    "name": "ipython",
    "version": 3
   },
   "file_extension": ".py",
   "mimetype": "text/x-python",
   "name": "python",
   "nbconvert_exporter": "python",
   "pygments_lexer": "ipython3",
   "version": "3.6.0"
  }
 },
 "nbformat": 4,
 "nbformat_minor": 2
}
